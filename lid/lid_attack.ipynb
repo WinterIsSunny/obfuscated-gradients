{
 "cells": [
  {
   "cell_type": "code",
   "execution_count": null,
   "metadata": {
    "collapsed": true
   },
   "outputs": [],
   "source": [
    "import tensorflow as tf\n",
    "import numpy as np\n",
    "import matplotlib.pyplot as plt\n",
    "#%matplotlib inline\n",
    "from keras.models import load_model\n",
    "import keras.backend as K\n",
    "from util import get_model\n",
    "from extract_artifacts import get_lid\n",
    "import collections\n",
    "from detect_adv_samples import detect\n",
    "from wrapper import Model\n",
    "import torch\n",
    "import time\n",
    "import cifar10_input\n",
    "import foolbox\n",
    "import os\n",
    "os.environ[\"CUDA_VISIBLE_DEVICES\"]=\"\"\n"
   ]
  }
 ],
 "metadata": {
  "kernelspec": {
   "display_name": "Python 3",
   "language": "python",
   "name": "python3"
  },
  "language_info": {
   "codemirror_mode": {
    "name": "ipython",
    "version": 3
   },
   "file_extension": ".py",
   "mimetype": "text/x-python",
   "name": "python",
   "nbconvert_exporter": "python",
   "pygments_lexer": "ipython3",
   "version": "3.6.3"
  }
 },
 "nbformat": 4,
 "nbformat_minor": 2
}
