{
 "cells": [
  {
   "cell_type": "code",
   "execution_count": 30,
   "metadata": {
    "collapsed": true
   },
   "outputs": [],
   "source": [
    "import tensorflow as tf\n",
    "import numpy as np\n",
    "import inceptionv3\n",
    "from utils import *\n",
    "#from defense import *\n",
    "import os\n",
    "from wrapper import MyModel\n",
    "import torch\n",
    "import time\n",
    "import pandas as pd\n",
    "import random\n",
    "\n",
    "os.environ[\"CUDA_VISIBLE_DEVICES\"]=\"2\""
   ]
  },
  {
   "cell_type": "code",
   "execution_count": 31,
   "metadata": {
    "collapsed": true
   },
   "outputs": [],
   "source": [
    "class blackbox:\n",
    "    def __init__(self,model):\n",
    "        self.model = model\n",
    "        \n",
    "    def attack_untargeted(self, x0, y0, alpha = 4, beta = 1e-4, iterations = 1000):\n",
    "        \"\"\" Attack the original image and return adversarial example\n",
    "            model: (pytorch model)\n",
    "            alpha: learning rate \n",
    "            beta: learning rate\n",
    "            train_dataset: set of training data\n",
    "            (x0, y0): original image\n",
    "        \"\"\"\n",
    "        pred = self.model.predict(x0)\n",
    "        print(\"predicted label:\", pred)\n",
    "        print(\"true label:\", y0)\n",
    "\n",
    "        if (pred != y0):\n",
    "            print(\"Fail to classify the image. No need to attack.\")\n",
    "            return x0,0,0\n",
    "    \n",
    "        num_directions = 1000\n",
    "        num_query = 10\n",
    "        best_theta, g_theta = None, float('inf')\n",
    "        query_count = 0\n",
    "        comp_theta = 0\n",
    "        current_best = float('inf')\n",
    "        \n",
    "        timestart = time.time()\n",
    "        for i in range(num_directions):\n",
    "            theta = torch.randn(x0.shape).type(torch.FloatTensor)\n",
    "            initial_lbd = torch.norm(theta)\n",
    "            theta = theta/torch.norm(theta)\n",
    "            if self.model.predict(x0+np.array(initial_lbd*theta)) != y0:\n",
    "                query_count += 1\n",
    "                lbd,comp_dec,query = self.fine_grained_binary_search_fix(x0,y0,theta,initial_lbd,g_theta,current_best,num_query)\n",
    "                query_count += query\n",
    "                if comp_dec > comp_theta:\n",
    "                    comp_theta = comp_dec\n",
    "                    best_theta,g_theta = theta,lbd\n",
    "                    print(\"--------> Found abs-distortion %.4f with 10 queries\" % g_theta)\n",
    "                    print(\"--------> Found comp-distortion %.4f with 10 queries\" % comp_dec)\n",
    "        timeend = time.time()\n",
    "        print(\"==========> Found best distortion %.4f in %.4f seconds\" % (g_theta, timeend-timestart))\n",
    "        query_count = (num_directions+1)*num_query\n",
    "        #print(\"type of best_theta\", type(best_theta))\n",
    "        #print(\"type of best_theta\", type(g_theta))\n",
    "        lbd,count = self.fine_grained_binary_search( x0, y0, best_theta, g_theta, current_best)\n",
    "        g_theta = lbd\n",
    "        query_count += count\n",
    "        \n",
    "\n",
    "        #timestart = time.time()\n",
    "        print(\"the best initialization: \",g_theta)\n",
    "        g1 = 1.0\n",
    "        theta, g2 = best_theta.clone(), g_theta\n",
    "        torch.manual_seed(0)\n",
    "        opt_count = 0\n",
    "        stopping = 0.01\n",
    "        prev_obj = 100000\n",
    "        query_thre = 0\n",
    "        for i in range(iterations):\n",
    "            \n",
    "           # print(\"iteration:\",i)\n",
    "            if g_theta < 1:\n",
    "                print(\"====================query number after distortion < 1 =======================: \",opt_count+query_count)\n",
    "                query_thre = opt_count+query_count\n",
    "            gradient = torch.zeros(theta.size())\n",
    "            q = 10\n",
    "            min_g1 = float('inf')\n",
    "            for j in range(q):\n",
    "                u = torch.randn(theta.size()).type(torch.FloatTensor)\n",
    "                u = u/torch.norm(u)\n",
    "                ttt = theta+beta * u\n",
    "                ttt = ttt/torch.norm(ttt)\n",
    "                #print(\"inner loop iteration: \", j)\n",
    "                g1, count = self.fine_grained_binary_search_local( x0, y0, ttt, initial_lbd = g2, tol=beta/500)\n",
    "                #print(\"g1 :\",g1)\n",
    "                opt_count += count\n",
    "                gradient += (g1-g2)/beta * u\n",
    "                if g1 < min_g1:\n",
    "                    min_g1 = g1\n",
    "                    min_ttt = ttt\n",
    "            gradient = 1.0/q * gradient\n",
    "#            print(\"=============================================\")\n",
    "    \n",
    "            if (i+1)%50 == 0:\n",
    "                \n",
    "                print(\"Iteration %3d: g(theta + beta*u) = %.4f g(theta) = %.4f distortion %.4f num_queries %d\" % (i+1, g1, g2, torch.norm(g2*theta), opt_count))\n",
    "                if g2 > prev_obj-stopping:\n",
    "                    break\n",
    "                prev_obj = g2\n",
    "    \n",
    "            min_theta = theta\n",
    "            min_g2 = g2\n",
    "            \n",
    "            #print(\"gradient:\", gradient)\n",
    "           # print(\"theta:\",theta)\n",
    "            for _ in range(15):\n",
    "                new_theta = theta - alpha * gradient\n",
    "                new_theta = new_theta/torch.norm(new_theta)\n",
    "                \n",
    "                new_g2, count = self.fine_grained_binary_search_local( x0, y0, new_theta, initial_lbd = min_g2, tol=beta/50)\n",
    "                opt_count += count\n",
    "                alpha = alpha * 2\n",
    "#                print(\"alpha in the first for loop is: \",alpha)\n",
    "                if new_g2 < min_g2:\n",
    "                    min_theta = new_theta \n",
    "                    min_g2 = new_g2\n",
    "                else:\n",
    "                    break\n",
    "#            print(\"=============================================\")\n",
    "    \n",
    "            if min_g2 >= g2:\n",
    "                for _ in range(15):\n",
    "                    alpha = alpha * 0.25\n",
    "                    new_theta = theta - alpha * gradient\n",
    "                    new_theta = new_theta/torch.norm(new_theta)\n",
    "                    new_g2, count = self.fine_grained_binary_search_local( x0, y0, new_theta, initial_lbd = min_g2, tol=beta/50)\n",
    "                    opt_count += count\n",
    "#                    print(\"alpha in the second for loop is: \",alpha)\n",
    "                    if new_g2 < g2:\n",
    "                        min_theta = new_theta \n",
    "                        min_g2 = new_g2\n",
    "                        break\n",
    "#            print(\"=============================================\")\n",
    "            if min_g2 <= min_g1:\n",
    "                theta, g2 = min_theta, min_g2\n",
    "            else:\n",
    "                theta, g2 = min_ttt, min_g1\n",
    "    \n",
    "            if g2 < g_theta:\n",
    "                best_theta, g_theta = theta.clone(), g2\n",
    "            \n",
    "\n",
    "            if alpha < 1e-6:\n",
    "                alpha = 1\n",
    "                print(\"Warning: not moving, g2 %lf gtheta %lf\" % (g2, g_theta))\n",
    "                beta = beta * 0.1\n",
    "                if (beta < 1e-10):\n",
    "                    print(\"beta is too samll\")\n",
    "                    break\n",
    "# \n",
    "        #print(\"\\nAdversarial Example Found Successfully: distortion %.4f target %d queries %d \\nTime: %.4f seconds\" % (g_theta, target, query_count + opt_count, timeend-timestart))\n",
    "        print(\"inceptionv3_2\")\n",
    "        print(\"best distortion :\", g_theta)\n",
    "        print(\"number of queries :\", opt_count+query_count)\n",
    "        return x0 + np.array(g_theta*best_theta), opt_count+query_count, query_thre\n",
    "   \n",
    "    def fine_grained_binary_search_fix(self,x0,y0,theta, initial_lbd = 1.0, tol=1e-5,current_best = float('inf'),num_query = 10):\n",
    "        nquery = 0\n",
    "        if initial_lbd > current_best: \n",
    "            if self.model.predict(x0+ np.array(current_best*theta)) == y0:\n",
    "                nquery += 1\n",
    "                return float('inf'), nquery\n",
    "            lbd = current_best\n",
    "        else:\n",
    "            lbd = initial_lbd\n",
    "    \n",
    "        lbd_hi = lbd\n",
    "        lbd_lo = 0.0\n",
    "    \n",
    "        while (lbd_hi - lbd_lo) > 1e-5:\n",
    "            lbd_mid = (lbd_lo + lbd_hi)/2.0\n",
    "            nquery += 1\n",
    "            if self.model.predict(x0 + np.array(lbd_mid*theta)) != y0:\n",
    "                lbd_hi = lbd_mid\n",
    "            else:\n",
    "                lbd_lo = lbd_mid\n",
    "            if nquery > num_query:\n",
    "                break\n",
    "        comp_dec = (initial_lbd - lbd_hi)/initial_lbd\n",
    "       # print(\"number of query before return for this direction:\",nquery)\n",
    "        return lbd_hi,comp_dec,nquery\n",
    "    \n",
    "    \n",
    "    def fine_grained_binary_search_local(self, x0, y0, theta, initial_lbd = 1.0, tol=1e-5):\n",
    "        nquery = 0\n",
    "        lbd = initial_lbd\n",
    "        \n",
    "        if self.model.predict(x0+np.array(lbd*theta)) == y0:\n",
    "            lbd_lo = lbd\n",
    "            lbd_hi = lbd*1.01\n",
    "            nquery += 1\n",
    "            \n",
    "            while self.model.predict(x0+np.array(lbd_hi*theta)) == y0:\n",
    "                lbd_hi = lbd_hi*1.01\n",
    "                nquery += 1\n",
    "                if lbd_hi > 20:\n",
    "                    return float('inf'), nquery\n",
    "\n",
    "        else:\n",
    "            lbd_hi = lbd\n",
    "            lbd_lo = lbd*0.99\n",
    "            nquery += 1\n",
    "#            timestart2 = time.time()\n",
    "            while self.model.predict(x0+ np.array(lbd_lo*theta)) != y0 :\n",
    "                lbd_lo = lbd_lo*0.99\n",
    "                nquery += 1\n",
    "\n",
    "        while (lbd_hi - lbd_lo) > tol:\n",
    "            lbd_mid = (lbd_lo + lbd_hi)/2.0\n",
    "            nquery += 1\n",
    "            if self.model.predict(x0 + np.array(lbd_mid*theta)) != y0:\n",
    "                lbd_hi = lbd_mid\n",
    "            else:\n",
    "                lbd_lo = lbd_mid\n",
    "\n",
    "        return lbd_hi, nquery\n",
    "    \n",
    "    \n",
    "    def fine_grained_binary_search(self, x0, y0, theta, initial_lbd, current_best):\n",
    "        nquery = 0\n",
    "        if initial_lbd > current_best: \n",
    "            if self.model.predict(x0+ np.array(current_best*theta)) == y0:\n",
    "                nquery += 1\n",
    "                #print(\"initial_lbd > current_best & predict == y0, so return inf\")\n",
    "                return float('inf'), nquery\n",
    "            lbd = current_best\n",
    "        else:\n",
    "            lbd = initial_lbd\n",
    "            \n",
    "\n",
    "        lbd_hi = lbd\n",
    "        lbd_lo = 0\n",
    "    \n",
    "        while (lbd_hi - lbd_lo) > 1e-4:\n",
    "            lbd_mid = (lbd_lo + lbd_hi)/2.0\n",
    "            nquery += 1\n",
    "            if self.model.predict(x0 + np.array(lbd_mid*theta)) != y0:\n",
    "                lbd_hi = lbd_mid\n",
    "            else:\n",
    "                lbd_lo = lbd_mid\n",
    "        #print(\"find a better initialization\")\n",
    "        return lbd_hi, nquery\n",
    "    "
   ]
  },
  {
   "cell_type": "code",
   "execution_count": 32,
   "metadata": {},
   "outputs": [
    {
     "name": "stdout",
     "output_type": "stream",
     "text": [
      "INFO:tensorflow:Scale of 0 disables regularizer.\n"
     ]
    }
   ],
   "source": [
    "\n",
    "images,labels = read_images(\"/data3/ILSVRC2012/train/\",\"/data3/ILSVRC2012/train.txt\",20)\n",
    "model = MyModel(inceptionv3,sess,[0.0,1.0])\n",
    "attack = blackbox(model)\n"
   ]
  },
  {
   "cell_type": "code",
   "execution_count": 33,
   "metadata": {},
   "outputs": [
    {
     "ename": "FailedPreconditionError",
     "evalue": "Attempting to use uninitialized value InceptionV3/Mixed_7c/Branch_0/Conv2d_0a_1x1/weights\n\t [[Node: InceptionV3/Mixed_7c/Branch_0/Conv2d_0a_1x1/weights/read = Identity[T=DT_FLOAT, _device=\"/job:localhost/replica:0/task:0/device:GPU:0\"](InceptionV3/Mixed_7c/Branch_0/Conv2d_0a_1x1/weights)]]\n\t [[Node: ArgMax_8/_7 = _Recv[client_terminated=false, recv_device=\"/job:localhost/replica:0/task:0/device:CPU:0\", send_device=\"/job:localhost/replica:0/task:0/device:GPU:0\", send_device_incarnation=1, tensor_name=\"edge_1632_ArgMax_8\", tensor_type=DT_INT64, _device=\"/job:localhost/replica:0/task:0/device:CPU:0\"]()]]\n\nCaused by op 'InceptionV3/Mixed_7c/Branch_0/Conv2d_0a_1x1/weights/read', defined at:\n  File \"/home/yusu/anaconda3/lib/python3.6/runpy.py\", line 193, in _run_module_as_main\n    \"__main__\", mod_spec)\n  File \"/home/yusu/anaconda3/lib/python3.6/runpy.py\", line 85, in _run_code\n    exec(code, run_globals)\n  File \"/home/yusu/anaconda3/lib/python3.6/site-packages/ipykernel_launcher.py\", line 16, in <module>\n    app.launch_new_instance()\n  File \"/home/yusu/anaconda3/lib/python3.6/site-packages/traitlets/config/application.py\", line 658, in launch_instance\n    app.start()\n  File \"/home/yusu/anaconda3/lib/python3.6/site-packages/ipykernel/kernelapp.py\", line 477, in start\n    ioloop.IOLoop.instance().start()\n  File \"/home/yusu/anaconda3/lib/python3.6/site-packages/zmq/eventloop/ioloop.py\", line 177, in start\n    super(ZMQIOLoop, self).start()\n  File \"/home/yusu/anaconda3/lib/python3.6/site-packages/tornado/ioloop.py\", line 888, in start\n    handler_func(fd_obj, events)\n  File \"/home/yusu/anaconda3/lib/python3.6/site-packages/tornado/stack_context.py\", line 277, in null_wrapper\n    return fn(*args, **kwargs)\n  File \"/home/yusu/anaconda3/lib/python3.6/site-packages/zmq/eventloop/zmqstream.py\", line 440, in _handle_events\n    self._handle_recv()\n  File \"/home/yusu/anaconda3/lib/python3.6/site-packages/zmq/eventloop/zmqstream.py\", line 472, in _handle_recv\n    self._run_callback(callback, msg)\n  File \"/home/yusu/anaconda3/lib/python3.6/site-packages/zmq/eventloop/zmqstream.py\", line 414, in _run_callback\n    callback(*args, **kwargs)\n  File \"/home/yusu/anaconda3/lib/python3.6/site-packages/tornado/stack_context.py\", line 277, in null_wrapper\n    return fn(*args, **kwargs)\n  File \"/home/yusu/anaconda3/lib/python3.6/site-packages/ipykernel/kernelbase.py\", line 283, in dispatcher\n    return self.dispatch_shell(stream, msg)\n  File \"/home/yusu/anaconda3/lib/python3.6/site-packages/ipykernel/kernelbase.py\", line 235, in dispatch_shell\n    handler(stream, idents, msg)\n  File \"/home/yusu/anaconda3/lib/python3.6/site-packages/ipykernel/kernelbase.py\", line 399, in execute_request\n    user_expressions, allow_stdin)\n  File \"/home/yusu/anaconda3/lib/python3.6/site-packages/ipykernel/ipkernel.py\", line 196, in do_execute\n    res = shell.run_cell(code, store_history=store_history, silent=silent)\n  File \"/home/yusu/anaconda3/lib/python3.6/site-packages/ipykernel/zmqshell.py\", line 533, in run_cell\n    return super(ZMQInteractiveShell, self).run_cell(*args, **kwargs)\n  File \"/home/yusu/anaconda3/lib/python3.6/site-packages/IPython/core/interactiveshell.py\", line 2698, in run_cell\n    interactivity=interactivity, compiler=compiler, result=result)\n  File \"/home/yusu/anaconda3/lib/python3.6/site-packages/IPython/core/interactiveshell.py\", line 2802, in run_ast_nodes\n    if self.run_code(code, result):\n  File \"/home/yusu/anaconda3/lib/python3.6/site-packages/IPython/core/interactiveshell.py\", line 2862, in run_code\n    exec(code_obj, self.user_global_ns, self.user_ns)\n  File \"<ipython-input-4-c17215137e36>\", line 2, in <module>\n    model = MyModel(inceptionv3,sess,[0.0,1.0])\n  File \"/home/yusu/obfuscated-gradients/baseline_incepv3/wrapper.py\", line 24, in __init__\n    self.logits, self.preds = self.model.model(self.sess, self.x_expanded)\n  File \"/home/yusu/obfuscated-gradients/baseline_incepv3/inceptionv3.py\", line 44, in model\n    logits, _ = network_fn(preprocessed)\n  File \"/home/yusu/obfuscated-gradients/baseline_incepv3/inceptionv3.py\", line 21, in network_fn\n    return func(images, 1001, is_training=False, reuse=reuse)\n  File \"/home/yusu/anaconda3/lib/python3.6/site-packages/tensorflow/contrib/slim/python/slim/nets/inception_v3.py\", line 580, in inception_v3\n    depth_multiplier=depth_multiplier)\n  File \"/home/yusu/anaconda3/lib/python3.6/site-packages/tensorflow/contrib/slim/python/slim/nets/inception_v3.py\", line 477, in inception_v3_base\n    net, depth(320), [1, 1], scope='Conv2d_0a_1x1')\n  File \"/home/yusu/anaconda3/lib/python3.6/site-packages/tensorflow/contrib/framework/python/ops/arg_scope.py\", line 183, in func_with_args\n    return func(*args, **current_args)\n  File \"/home/yusu/anaconda3/lib/python3.6/site-packages/tensorflow/contrib/layers/python/layers/layers.py\", line 1154, in convolution2d\n    conv_dims=2)\n  File \"/home/yusu/anaconda3/lib/python3.6/site-packages/tensorflow/contrib/framework/python/ops/arg_scope.py\", line 183, in func_with_args\n    return func(*args, **current_args)\n  File \"/home/yusu/anaconda3/lib/python3.6/site-packages/tensorflow/contrib/layers/python/layers/layers.py\", line 1057, in convolution\n    outputs = layer.apply(inputs)\n  File \"/home/yusu/anaconda3/lib/python3.6/site-packages/tensorflow/python/keras/engine/base_layer.py\", line 774, in apply\n    return self.__call__(inputs, *args, **kwargs)\n  File \"/home/yusu/anaconda3/lib/python3.6/site-packages/tensorflow/python/layers/base.py\", line 329, in __call__\n    outputs = super(Layer, self).__call__(inputs, *args, **kwargs)\n  File \"/home/yusu/anaconda3/lib/python3.6/site-packages/tensorflow/python/keras/engine/base_layer.py\", line 696, in __call__\n    self.build(input_shapes)\n  File \"/home/yusu/anaconda3/lib/python3.6/site-packages/tensorflow/python/keras/layers/convolutional.py\", line 160, in build\n    dtype=self.dtype)\n  File \"/home/yusu/anaconda3/lib/python3.6/site-packages/tensorflow/python/keras/engine/base_layer.py\", line 460, in add_variable\n    return self.add_weight(*args, **kwargs)\n  File \"/home/yusu/anaconda3/lib/python3.6/site-packages/tensorflow/python/layers/base.py\", line 243, in add_weight\n    getter=vs.get_variable)\n  File \"/home/yusu/anaconda3/lib/python3.6/site-packages/tensorflow/python/keras/engine/base_layer.py\", line 534, in add_weight\n    use_resource=use_resource)\n  File \"/home/yusu/anaconda3/lib/python3.6/site-packages/tensorflow/python/training/checkpointable/base.py\", line 497, in _add_variable_with_custom_getter\n    **kwargs_for_getter)\n  File \"/home/yusu/anaconda3/lib/python3.6/site-packages/tensorflow/python/ops/variable_scope.py\", line 1328, in get_variable\n    constraint=constraint)\n  File \"/home/yusu/anaconda3/lib/python3.6/site-packages/tensorflow/python/ops/variable_scope.py\", line 1090, in get_variable\n    constraint=constraint)\n  File \"/home/yusu/anaconda3/lib/python3.6/site-packages/tensorflow/python/ops/variable_scope.py\", line 427, in get_variable\n    return custom_getter(**custom_getter_kwargs)\n  File \"/home/yusu/anaconda3/lib/python3.6/site-packages/tensorflow/contrib/layers/python/layers/layers.py\", line 1744, in layer_variable_getter\n    return _model_variable_getter(getter, *args, **kwargs)\n  File \"/home/yusu/anaconda3/lib/python3.6/site-packages/tensorflow/contrib/layers/python/layers/layers.py\", line 1735, in _model_variable_getter\n    use_resource=use_resource)\n  File \"/home/yusu/anaconda3/lib/python3.6/site-packages/tensorflow/contrib/framework/python/ops/arg_scope.py\", line 183, in func_with_args\n    return func(*args, **current_args)\n  File \"/home/yusu/anaconda3/lib/python3.6/site-packages/tensorflow/contrib/framework/python/ops/variables.py\", line 297, in model_variable\n    use_resource=use_resource)\n  File \"/home/yusu/anaconda3/lib/python3.6/site-packages/tensorflow/contrib/framework/python/ops/arg_scope.py\", line 183, in func_with_args\n    return func(*args, **current_args)\n  File \"/home/yusu/anaconda3/lib/python3.6/site-packages/tensorflow/contrib/framework/python/ops/variables.py\", line 252, in variable\n    use_resource=use_resource)\n  File \"/home/yusu/anaconda3/lib/python3.6/site-packages/tensorflow/python/ops/variable_scope.py\", line 404, in _true_getter\n    use_resource=use_resource, constraint=constraint)\n  File \"/home/yusu/anaconda3/lib/python3.6/site-packages/tensorflow/python/ops/variable_scope.py\", line 796, in _get_single_variable\n    use_resource=use_resource)\n  File \"/home/yusu/anaconda3/lib/python3.6/site-packages/tensorflow/python/ops/variable_scope.py\", line 2234, in variable\n    use_resource=use_resource)\n  File \"/home/yusu/anaconda3/lib/python3.6/site-packages/tensorflow/python/ops/variable_scope.py\", line 2224, in <lambda>\n    previous_getter = lambda **kwargs: default_variable_creator(None, **kwargs)\n  File \"/home/yusu/anaconda3/lib/python3.6/site-packages/tensorflow/python/ops/variable_scope.py\", line 2207, in default_variable_creator\n    constraint=constraint)\n  File \"/home/yusu/anaconda3/lib/python3.6/site-packages/tensorflow/python/ops/variables.py\", line 259, in __init__\n    constraint=constraint)\n  File \"/home/yusu/anaconda3/lib/python3.6/site-packages/tensorflow/python/ops/variables.py\", line 422, in _init_from_args\n    self._snapshot = array_ops.identity(self._variable, name=\"read\")\n  File \"/home/yusu/anaconda3/lib/python3.6/site-packages/tensorflow/python/ops/array_ops.py\", line 79, in identity\n    return gen_array_ops.identity(input, name=name)\n  File \"/home/yusu/anaconda3/lib/python3.6/site-packages/tensorflow/python/ops/gen_array_ops.py\", line 3263, in identity\n    \"Identity\", input=input, name=name)\n  File \"/home/yusu/anaconda3/lib/python3.6/site-packages/tensorflow/python/framework/op_def_library.py\", line 787, in _apply_op_helper\n    op_def=op_def)\n  File \"/home/yusu/anaconda3/lib/python3.6/site-packages/tensorflow/python/framework/ops.py\", line 3414, in create_op\n    op_def=op_def)\n  File \"/home/yusu/anaconda3/lib/python3.6/site-packages/tensorflow/python/framework/ops.py\", line 1740, in __init__\n    self._traceback = self._graph._extract_stack()  # pylint: disable=protected-access\n\nFailedPreconditionError (see above for traceback): Attempting to use uninitialized value InceptionV3/Mixed_7c/Branch_0/Conv2d_0a_1x1/weights\n\t [[Node: InceptionV3/Mixed_7c/Branch_0/Conv2d_0a_1x1/weights/read = Identity[T=DT_FLOAT, _device=\"/job:localhost/replica:0/task:0/device:GPU:0\"](InceptionV3/Mixed_7c/Branch_0/Conv2d_0a_1x1/weights)]]\n\t [[Node: ArgMax_8/_7 = _Recv[client_terminated=false, recv_device=\"/job:localhost/replica:0/task:0/device:CPU:0\", send_device=\"/job:localhost/replica:0/task:0/device:GPU:0\", send_device_incarnation=1, tensor_name=\"edge_1632_ArgMax_8\", tensor_type=DT_INT64, _device=\"/job:localhost/replica:0/task:0/device:CPU:0\"]()]]\n",
     "output_type": "error",
     "traceback": [
      "\u001b[0;31m---------------------------------------------------------------------------\u001b[0m",
      "\u001b[0;31mFailedPreconditionError\u001b[0m                   Traceback (most recent call last)",
      "\u001b[0;32m~/anaconda3/lib/python3.6/site-packages/tensorflow/python/client/session.py\u001b[0m in \u001b[0;36m_do_call\u001b[0;34m(self, fn, *args)\u001b[0m\n\u001b[1;32m   1321\u001b[0m     \u001b[0;32mtry\u001b[0m\u001b[0;34m:\u001b[0m\u001b[0;34m\u001b[0m\u001b[0m\n\u001b[0;32m-> 1322\u001b[0;31m       \u001b[0;32mreturn\u001b[0m \u001b[0mfn\u001b[0m\u001b[0;34m(\u001b[0m\u001b[0;34m*\u001b[0m\u001b[0margs\u001b[0m\u001b[0;34m)\u001b[0m\u001b[0;34m\u001b[0m\u001b[0m\n\u001b[0m\u001b[1;32m   1323\u001b[0m     \u001b[0;32mexcept\u001b[0m \u001b[0merrors\u001b[0m\u001b[0;34m.\u001b[0m\u001b[0mOpError\u001b[0m \u001b[0;32mas\u001b[0m \u001b[0me\u001b[0m\u001b[0;34m:\u001b[0m\u001b[0;34m\u001b[0m\u001b[0m\n",
      "\u001b[0;32m~/anaconda3/lib/python3.6/site-packages/tensorflow/python/client/session.py\u001b[0m in \u001b[0;36m_run_fn\u001b[0;34m(feed_dict, fetch_list, target_list, options, run_metadata)\u001b[0m\n\u001b[1;32m   1306\u001b[0m       return self._call_tf_sessionrun(\n\u001b[0;32m-> 1307\u001b[0;31m           options, feed_dict, fetch_list, target_list, run_metadata)\n\u001b[0m\u001b[1;32m   1308\u001b[0m \u001b[0;34m\u001b[0m\u001b[0m\n",
      "\u001b[0;32m~/anaconda3/lib/python3.6/site-packages/tensorflow/python/client/session.py\u001b[0m in \u001b[0;36m_call_tf_sessionrun\u001b[0;34m(self, options, feed_dict, fetch_list, target_list, run_metadata)\u001b[0m\n\u001b[1;32m   1408\u001b[0m           \u001b[0mself\u001b[0m\u001b[0;34m.\u001b[0m\u001b[0m_session\u001b[0m\u001b[0;34m,\u001b[0m \u001b[0moptions\u001b[0m\u001b[0;34m,\u001b[0m \u001b[0mfeed_dict\u001b[0m\u001b[0;34m,\u001b[0m \u001b[0mfetch_list\u001b[0m\u001b[0;34m,\u001b[0m \u001b[0mtarget_list\u001b[0m\u001b[0;34m,\u001b[0m\u001b[0;34m\u001b[0m\u001b[0m\n\u001b[0;32m-> 1409\u001b[0;31m           run_metadata)\n\u001b[0m\u001b[1;32m   1410\u001b[0m     \u001b[0;32melse\u001b[0m\u001b[0;34m:\u001b[0m\u001b[0;34m\u001b[0m\u001b[0m\n",
      "\u001b[0;31mFailedPreconditionError\u001b[0m: Attempting to use uninitialized value InceptionV3/Mixed_7c/Branch_0/Conv2d_0a_1x1/weights\n\t [[Node: InceptionV3/Mixed_7c/Branch_0/Conv2d_0a_1x1/weights/read = Identity[T=DT_FLOAT, _device=\"/job:localhost/replica:0/task:0/device:GPU:0\"](InceptionV3/Mixed_7c/Branch_0/Conv2d_0a_1x1/weights)]]\n\t [[Node: ArgMax_8/_7 = _Recv[client_terminated=false, recv_device=\"/job:localhost/replica:0/task:0/device:CPU:0\", send_device=\"/job:localhost/replica:0/task:0/device:GPU:0\", send_device_incarnation=1, tensor_name=\"edge_1632_ArgMax_8\", tensor_type=DT_INT64, _device=\"/job:localhost/replica:0/task:0/device:CPU:0\"]()]]",
      "\nDuring handling of the above exception, another exception occurred:\n",
      "\u001b[0;31mFailedPreconditionError\u001b[0m                   Traceback (most recent call last)",
      "\u001b[0;32m<ipython-input-33-a8ab4270dccb>\u001b[0m in \u001b[0;36m<module>\u001b[0;34m()\u001b[0m\n\u001b[1;32m      1\u001b[0m \u001b[0mcompare\u001b[0m \u001b[0;34m=\u001b[0m \u001b[0;34m[\u001b[0m\u001b[0;34m]\u001b[0m\u001b[0;34m\u001b[0m\u001b[0m\n\u001b[1;32m      2\u001b[0m \u001b[0;32mfor\u001b[0m \u001b[0mi\u001b[0m \u001b[0;32min\u001b[0m \u001b[0mrange\u001b[0m\u001b[0;34m(\u001b[0m\u001b[0mlen\u001b[0m\u001b[0;34m(\u001b[0m\u001b[0mimages\u001b[0m\u001b[0;34m)\u001b[0m\u001b[0;34m)\u001b[0m\u001b[0;34m:\u001b[0m\u001b[0;34m\u001b[0m\u001b[0m\n\u001b[0;32m----> 3\u001b[0;31m     \u001b[0mpred\u001b[0m \u001b[0;34m=\u001b[0m \u001b[0mmodel\u001b[0m\u001b[0;34m.\u001b[0m\u001b[0mpredict\u001b[0m\u001b[0;34m(\u001b[0m\u001b[0mimages\u001b[0m\u001b[0;34m[\u001b[0m\u001b[0mi\u001b[0m\u001b[0;34m]\u001b[0m\u001b[0;34m)\u001b[0m\u001b[0;34m\u001b[0m\u001b[0m\n\u001b[0m\u001b[1;32m      4\u001b[0m     \u001b[0;32mif\u001b[0m \u001b[0mpred\u001b[0m \u001b[0;34m==\u001b[0m \u001b[0mlabels\u001b[0m\u001b[0;34m[\u001b[0m\u001b[0mi\u001b[0m\u001b[0;34m]\u001b[0m\u001b[0;34m:\u001b[0m\u001b[0;34m\u001b[0m\u001b[0m\n\u001b[1;32m      5\u001b[0m         \u001b[0mcompare\u001b[0m\u001b[0;34m.\u001b[0m\u001b[0mappend\u001b[0m\u001b[0;34m(\u001b[0m\u001b[0;36m1\u001b[0m\u001b[0;34m)\u001b[0m\u001b[0;34m\u001b[0m\u001b[0m\n",
      "\u001b[0;32m~/obfuscated-gradients/baseline_incepv3/wrapper.py\u001b[0m in \u001b[0;36mpredict\u001b[0;34m(self, image)\u001b[0m\n\u001b[1;32m     32\u001b[0m \u001b[0;34m\u001b[0m\u001b[0m\n\u001b[1;32m     33\u001b[0m \u001b[0;31m#        adv_def = defend_tv(new_img)\u001b[0m\u001b[0;34m\u001b[0m\u001b[0;34m\u001b[0m\u001b[0m\n\u001b[0;32m---> 34\u001b[0;31m         \u001b[0mlabels\u001b[0m \u001b[0;34m=\u001b[0m \u001b[0mself\u001b[0m\u001b[0;34m.\u001b[0m\u001b[0msess\u001b[0m\u001b[0;34m.\u001b[0m\u001b[0mrun\u001b[0m\u001b[0;34m(\u001b[0m\u001b[0;34m[\u001b[0m\u001b[0mself\u001b[0m\u001b[0;34m.\u001b[0m\u001b[0mpreds\u001b[0m\u001b[0;34m]\u001b[0m\u001b[0;34m,\u001b[0m \u001b[0;34m{\u001b[0m\u001b[0mself\u001b[0m\u001b[0;34m.\u001b[0m\u001b[0mx\u001b[0m\u001b[0;34m:\u001b[0m \u001b[0mnew_img\u001b[0m\u001b[0;34m}\u001b[0m\u001b[0;34m)\u001b[0m\u001b[0;34m\u001b[0m\u001b[0m\n\u001b[0m\u001b[1;32m     35\u001b[0m         \u001b[0;31m#print(\"type of preds[0] is: \",type(preds[0]))\u001b[0m\u001b[0;34m\u001b[0m\u001b[0;34m\u001b[0m\u001b[0m\n\u001b[1;32m     36\u001b[0m         \u001b[0;32mreturn\u001b[0m \u001b[0mlabels\u001b[0m\u001b[0;34m[\u001b[0m\u001b[0;36m0\u001b[0m\u001b[0;34m]\u001b[0m\u001b[0;34m\u001b[0m\u001b[0m\n",
      "\u001b[0;32m~/anaconda3/lib/python3.6/site-packages/tensorflow/python/client/session.py\u001b[0m in \u001b[0;36mrun\u001b[0;34m(self, fetches, feed_dict, options, run_metadata)\u001b[0m\n\u001b[1;32m    898\u001b[0m     \u001b[0;32mtry\u001b[0m\u001b[0;34m:\u001b[0m\u001b[0;34m\u001b[0m\u001b[0m\n\u001b[1;32m    899\u001b[0m       result = self._run(None, fetches, feed_dict, options_ptr,\n\u001b[0;32m--> 900\u001b[0;31m                          run_metadata_ptr)\n\u001b[0m\u001b[1;32m    901\u001b[0m       \u001b[0;32mif\u001b[0m \u001b[0mrun_metadata\u001b[0m\u001b[0;34m:\u001b[0m\u001b[0;34m\u001b[0m\u001b[0m\n\u001b[1;32m    902\u001b[0m         \u001b[0mproto_data\u001b[0m \u001b[0;34m=\u001b[0m \u001b[0mtf_session\u001b[0m\u001b[0;34m.\u001b[0m\u001b[0mTF_GetBuffer\u001b[0m\u001b[0;34m(\u001b[0m\u001b[0mrun_metadata_ptr\u001b[0m\u001b[0;34m)\u001b[0m\u001b[0;34m\u001b[0m\u001b[0m\n",
      "\u001b[0;32m~/anaconda3/lib/python3.6/site-packages/tensorflow/python/client/session.py\u001b[0m in \u001b[0;36m_run\u001b[0;34m(self, handle, fetches, feed_dict, options, run_metadata)\u001b[0m\n\u001b[1;32m   1133\u001b[0m     \u001b[0;32mif\u001b[0m \u001b[0mfinal_fetches\u001b[0m \u001b[0;32mor\u001b[0m \u001b[0mfinal_targets\u001b[0m \u001b[0;32mor\u001b[0m \u001b[0;34m(\u001b[0m\u001b[0mhandle\u001b[0m \u001b[0;32mand\u001b[0m \u001b[0mfeed_dict_tensor\u001b[0m\u001b[0;34m)\u001b[0m\u001b[0;34m:\u001b[0m\u001b[0;34m\u001b[0m\u001b[0m\n\u001b[1;32m   1134\u001b[0m       results = self._do_run(handle, final_targets, final_fetches,\n\u001b[0;32m-> 1135\u001b[0;31m                              feed_dict_tensor, options, run_metadata)\n\u001b[0m\u001b[1;32m   1136\u001b[0m     \u001b[0;32melse\u001b[0m\u001b[0;34m:\u001b[0m\u001b[0;34m\u001b[0m\u001b[0m\n\u001b[1;32m   1137\u001b[0m       \u001b[0mresults\u001b[0m \u001b[0;34m=\u001b[0m \u001b[0;34m[\u001b[0m\u001b[0;34m]\u001b[0m\u001b[0;34m\u001b[0m\u001b[0m\n",
      "\u001b[0;32m~/anaconda3/lib/python3.6/site-packages/tensorflow/python/client/session.py\u001b[0m in \u001b[0;36m_do_run\u001b[0;34m(self, handle, target_list, fetch_list, feed_dict, options, run_metadata)\u001b[0m\n\u001b[1;32m   1314\u001b[0m     \u001b[0;32mif\u001b[0m \u001b[0mhandle\u001b[0m \u001b[0;32mis\u001b[0m \u001b[0;32mNone\u001b[0m\u001b[0;34m:\u001b[0m\u001b[0;34m\u001b[0m\u001b[0m\n\u001b[1;32m   1315\u001b[0m       return self._do_call(_run_fn, feeds, fetches, targets, options,\n\u001b[0;32m-> 1316\u001b[0;31m                            run_metadata)\n\u001b[0m\u001b[1;32m   1317\u001b[0m     \u001b[0;32melse\u001b[0m\u001b[0;34m:\u001b[0m\u001b[0;34m\u001b[0m\u001b[0m\n\u001b[1;32m   1318\u001b[0m       \u001b[0;32mreturn\u001b[0m \u001b[0mself\u001b[0m\u001b[0;34m.\u001b[0m\u001b[0m_do_call\u001b[0m\u001b[0;34m(\u001b[0m\u001b[0m_prun_fn\u001b[0m\u001b[0;34m,\u001b[0m \u001b[0mhandle\u001b[0m\u001b[0;34m,\u001b[0m \u001b[0mfeeds\u001b[0m\u001b[0;34m,\u001b[0m \u001b[0mfetches\u001b[0m\u001b[0;34m)\u001b[0m\u001b[0;34m\u001b[0m\u001b[0m\n",
      "\u001b[0;32m~/anaconda3/lib/python3.6/site-packages/tensorflow/python/client/session.py\u001b[0m in \u001b[0;36m_do_call\u001b[0;34m(self, fn, *args)\u001b[0m\n\u001b[1;32m   1333\u001b[0m         \u001b[0;32mexcept\u001b[0m \u001b[0mKeyError\u001b[0m\u001b[0;34m:\u001b[0m\u001b[0;34m\u001b[0m\u001b[0m\n\u001b[1;32m   1334\u001b[0m           \u001b[0;32mpass\u001b[0m\u001b[0;34m\u001b[0m\u001b[0m\n\u001b[0;32m-> 1335\u001b[0;31m       \u001b[0;32mraise\u001b[0m \u001b[0mtype\u001b[0m\u001b[0;34m(\u001b[0m\u001b[0me\u001b[0m\u001b[0;34m)\u001b[0m\u001b[0;34m(\u001b[0m\u001b[0mnode_def\u001b[0m\u001b[0;34m,\u001b[0m \u001b[0mop\u001b[0m\u001b[0;34m,\u001b[0m \u001b[0mmessage\u001b[0m\u001b[0;34m)\u001b[0m\u001b[0;34m\u001b[0m\u001b[0m\n\u001b[0m\u001b[1;32m   1336\u001b[0m \u001b[0;34m\u001b[0m\u001b[0m\n\u001b[1;32m   1337\u001b[0m   \u001b[0;32mdef\u001b[0m \u001b[0m_extend_graph\u001b[0m\u001b[0;34m(\u001b[0m\u001b[0mself\u001b[0m\u001b[0;34m)\u001b[0m\u001b[0;34m:\u001b[0m\u001b[0;34m\u001b[0m\u001b[0m\n",
      "\u001b[0;31mFailedPreconditionError\u001b[0m: Attempting to use uninitialized value InceptionV3/Mixed_7c/Branch_0/Conv2d_0a_1x1/weights\n\t [[Node: InceptionV3/Mixed_7c/Branch_0/Conv2d_0a_1x1/weights/read = Identity[T=DT_FLOAT, _device=\"/job:localhost/replica:0/task:0/device:GPU:0\"](InceptionV3/Mixed_7c/Branch_0/Conv2d_0a_1x1/weights)]]\n\t [[Node: ArgMax_8/_7 = _Recv[client_terminated=false, recv_device=\"/job:localhost/replica:0/task:0/device:CPU:0\", send_device=\"/job:localhost/replica:0/task:0/device:GPU:0\", send_device_incarnation=1, tensor_name=\"edge_1632_ArgMax_8\", tensor_type=DT_INT64, _device=\"/job:localhost/replica:0/task:0/device:CPU:0\"]()]]\n\nCaused by op 'InceptionV3/Mixed_7c/Branch_0/Conv2d_0a_1x1/weights/read', defined at:\n  File \"/home/yusu/anaconda3/lib/python3.6/runpy.py\", line 193, in _run_module_as_main\n    \"__main__\", mod_spec)\n  File \"/home/yusu/anaconda3/lib/python3.6/runpy.py\", line 85, in _run_code\n    exec(code, run_globals)\n  File \"/home/yusu/anaconda3/lib/python3.6/site-packages/ipykernel_launcher.py\", line 16, in <module>\n    app.launch_new_instance()\n  File \"/home/yusu/anaconda3/lib/python3.6/site-packages/traitlets/config/application.py\", line 658, in launch_instance\n    app.start()\n  File \"/home/yusu/anaconda3/lib/python3.6/site-packages/ipykernel/kernelapp.py\", line 477, in start\n    ioloop.IOLoop.instance().start()\n  File \"/home/yusu/anaconda3/lib/python3.6/site-packages/zmq/eventloop/ioloop.py\", line 177, in start\n    super(ZMQIOLoop, self).start()\n  File \"/home/yusu/anaconda3/lib/python3.6/site-packages/tornado/ioloop.py\", line 888, in start\n    handler_func(fd_obj, events)\n  File \"/home/yusu/anaconda3/lib/python3.6/site-packages/tornado/stack_context.py\", line 277, in null_wrapper\n    return fn(*args, **kwargs)\n  File \"/home/yusu/anaconda3/lib/python3.6/site-packages/zmq/eventloop/zmqstream.py\", line 440, in _handle_events\n    self._handle_recv()\n  File \"/home/yusu/anaconda3/lib/python3.6/site-packages/zmq/eventloop/zmqstream.py\", line 472, in _handle_recv\n    self._run_callback(callback, msg)\n  File \"/home/yusu/anaconda3/lib/python3.6/site-packages/zmq/eventloop/zmqstream.py\", line 414, in _run_callback\n    callback(*args, **kwargs)\n  File \"/home/yusu/anaconda3/lib/python3.6/site-packages/tornado/stack_context.py\", line 277, in null_wrapper\n    return fn(*args, **kwargs)\n  File \"/home/yusu/anaconda3/lib/python3.6/site-packages/ipykernel/kernelbase.py\", line 283, in dispatcher\n    return self.dispatch_shell(stream, msg)\n  File \"/home/yusu/anaconda3/lib/python3.6/site-packages/ipykernel/kernelbase.py\", line 235, in dispatch_shell\n    handler(stream, idents, msg)\n  File \"/home/yusu/anaconda3/lib/python3.6/site-packages/ipykernel/kernelbase.py\", line 399, in execute_request\n    user_expressions, allow_stdin)\n  File \"/home/yusu/anaconda3/lib/python3.6/site-packages/ipykernel/ipkernel.py\", line 196, in do_execute\n    res = shell.run_cell(code, store_history=store_history, silent=silent)\n  File \"/home/yusu/anaconda3/lib/python3.6/site-packages/ipykernel/zmqshell.py\", line 533, in run_cell\n    return super(ZMQInteractiveShell, self).run_cell(*args, **kwargs)\n  File \"/home/yusu/anaconda3/lib/python3.6/site-packages/IPython/core/interactiveshell.py\", line 2698, in run_cell\n    interactivity=interactivity, compiler=compiler, result=result)\n  File \"/home/yusu/anaconda3/lib/python3.6/site-packages/IPython/core/interactiveshell.py\", line 2802, in run_ast_nodes\n    if self.run_code(code, result):\n  File \"/home/yusu/anaconda3/lib/python3.6/site-packages/IPython/core/interactiveshell.py\", line 2862, in run_code\n    exec(code_obj, self.user_global_ns, self.user_ns)\n  File \"<ipython-input-4-c17215137e36>\", line 2, in <module>\n    model = MyModel(inceptionv3,sess,[0.0,1.0])\n  File \"/home/yusu/obfuscated-gradients/baseline_incepv3/wrapper.py\", line 24, in __init__\n    self.logits, self.preds = self.model.model(self.sess, self.x_expanded)\n  File \"/home/yusu/obfuscated-gradients/baseline_incepv3/inceptionv3.py\", line 44, in model\n    logits, _ = network_fn(preprocessed)\n  File \"/home/yusu/obfuscated-gradients/baseline_incepv3/inceptionv3.py\", line 21, in network_fn\n    return func(images, 1001, is_training=False, reuse=reuse)\n  File \"/home/yusu/anaconda3/lib/python3.6/site-packages/tensorflow/contrib/slim/python/slim/nets/inception_v3.py\", line 580, in inception_v3\n    depth_multiplier=depth_multiplier)\n  File \"/home/yusu/anaconda3/lib/python3.6/site-packages/tensorflow/contrib/slim/python/slim/nets/inception_v3.py\", line 477, in inception_v3_base\n    net, depth(320), [1, 1], scope='Conv2d_0a_1x1')\n  File \"/home/yusu/anaconda3/lib/python3.6/site-packages/tensorflow/contrib/framework/python/ops/arg_scope.py\", line 183, in func_with_args\n    return func(*args, **current_args)\n  File \"/home/yusu/anaconda3/lib/python3.6/site-packages/tensorflow/contrib/layers/python/layers/layers.py\", line 1154, in convolution2d\n    conv_dims=2)\n  File \"/home/yusu/anaconda3/lib/python3.6/site-packages/tensorflow/contrib/framework/python/ops/arg_scope.py\", line 183, in func_with_args\n    return func(*args, **current_args)\n  File \"/home/yusu/anaconda3/lib/python3.6/site-packages/tensorflow/contrib/layers/python/layers/layers.py\", line 1057, in convolution\n    outputs = layer.apply(inputs)\n  File \"/home/yusu/anaconda3/lib/python3.6/site-packages/tensorflow/python/keras/engine/base_layer.py\", line 774, in apply\n    return self.__call__(inputs, *args, **kwargs)\n  File \"/home/yusu/anaconda3/lib/python3.6/site-packages/tensorflow/python/layers/base.py\", line 329, in __call__\n    outputs = super(Layer, self).__call__(inputs, *args, **kwargs)\n  File \"/home/yusu/anaconda3/lib/python3.6/site-packages/tensorflow/python/keras/engine/base_layer.py\", line 696, in __call__\n    self.build(input_shapes)\n  File \"/home/yusu/anaconda3/lib/python3.6/site-packages/tensorflow/python/keras/layers/convolutional.py\", line 160, in build\n    dtype=self.dtype)\n  File \"/home/yusu/anaconda3/lib/python3.6/site-packages/tensorflow/python/keras/engine/base_layer.py\", line 460, in add_variable\n    return self.add_weight(*args, **kwargs)\n  File \"/home/yusu/anaconda3/lib/python3.6/site-packages/tensorflow/python/layers/base.py\", line 243, in add_weight\n    getter=vs.get_variable)\n  File \"/home/yusu/anaconda3/lib/python3.6/site-packages/tensorflow/python/keras/engine/base_layer.py\", line 534, in add_weight\n    use_resource=use_resource)\n  File \"/home/yusu/anaconda3/lib/python3.6/site-packages/tensorflow/python/training/checkpointable/base.py\", line 497, in _add_variable_with_custom_getter\n    **kwargs_for_getter)\n  File \"/home/yusu/anaconda3/lib/python3.6/site-packages/tensorflow/python/ops/variable_scope.py\", line 1328, in get_variable\n    constraint=constraint)\n  File \"/home/yusu/anaconda3/lib/python3.6/site-packages/tensorflow/python/ops/variable_scope.py\", line 1090, in get_variable\n    constraint=constraint)\n  File \"/home/yusu/anaconda3/lib/python3.6/site-packages/tensorflow/python/ops/variable_scope.py\", line 427, in get_variable\n    return custom_getter(**custom_getter_kwargs)\n  File \"/home/yusu/anaconda3/lib/python3.6/site-packages/tensorflow/contrib/layers/python/layers/layers.py\", line 1744, in layer_variable_getter\n    return _model_variable_getter(getter, *args, **kwargs)\n  File \"/home/yusu/anaconda3/lib/python3.6/site-packages/tensorflow/contrib/layers/python/layers/layers.py\", line 1735, in _model_variable_getter\n    use_resource=use_resource)\n  File \"/home/yusu/anaconda3/lib/python3.6/site-packages/tensorflow/contrib/framework/python/ops/arg_scope.py\", line 183, in func_with_args\n    return func(*args, **current_args)\n  File \"/home/yusu/anaconda3/lib/python3.6/site-packages/tensorflow/contrib/framework/python/ops/variables.py\", line 297, in model_variable\n    use_resource=use_resource)\n  File \"/home/yusu/anaconda3/lib/python3.6/site-packages/tensorflow/contrib/framework/python/ops/arg_scope.py\", line 183, in func_with_args\n    return func(*args, **current_args)\n  File \"/home/yusu/anaconda3/lib/python3.6/site-packages/tensorflow/contrib/framework/python/ops/variables.py\", line 252, in variable\n    use_resource=use_resource)\n  File \"/home/yusu/anaconda3/lib/python3.6/site-packages/tensorflow/python/ops/variable_scope.py\", line 404, in _true_getter\n    use_resource=use_resource, constraint=constraint)\n  File \"/home/yusu/anaconda3/lib/python3.6/site-packages/tensorflow/python/ops/variable_scope.py\", line 796, in _get_single_variable\n    use_resource=use_resource)\n  File \"/home/yusu/anaconda3/lib/python3.6/site-packages/tensorflow/python/ops/variable_scope.py\", line 2234, in variable\n    use_resource=use_resource)\n  File \"/home/yusu/anaconda3/lib/python3.6/site-packages/tensorflow/python/ops/variable_scope.py\", line 2224, in <lambda>\n    previous_getter = lambda **kwargs: default_variable_creator(None, **kwargs)\n  File \"/home/yusu/anaconda3/lib/python3.6/site-packages/tensorflow/python/ops/variable_scope.py\", line 2207, in default_variable_creator\n    constraint=constraint)\n  File \"/home/yusu/anaconda3/lib/python3.6/site-packages/tensorflow/python/ops/variables.py\", line 259, in __init__\n    constraint=constraint)\n  File \"/home/yusu/anaconda3/lib/python3.6/site-packages/tensorflow/python/ops/variables.py\", line 422, in _init_from_args\n    self._snapshot = array_ops.identity(self._variable, name=\"read\")\n  File \"/home/yusu/anaconda3/lib/python3.6/site-packages/tensorflow/python/ops/array_ops.py\", line 79, in identity\n    return gen_array_ops.identity(input, name=name)\n  File \"/home/yusu/anaconda3/lib/python3.6/site-packages/tensorflow/python/ops/gen_array_ops.py\", line 3263, in identity\n    \"Identity\", input=input, name=name)\n  File \"/home/yusu/anaconda3/lib/python3.6/site-packages/tensorflow/python/framework/op_def_library.py\", line 787, in _apply_op_helper\n    op_def=op_def)\n  File \"/home/yusu/anaconda3/lib/python3.6/site-packages/tensorflow/python/framework/ops.py\", line 3414, in create_op\n    op_def=op_def)\n  File \"/home/yusu/anaconda3/lib/python3.6/site-packages/tensorflow/python/framework/ops.py\", line 1740, in __init__\n    self._traceback = self._graph._extract_stack()  # pylint: disable=protected-access\n\nFailedPreconditionError (see above for traceback): Attempting to use uninitialized value InceptionV3/Mixed_7c/Branch_0/Conv2d_0a_1x1/weights\n\t [[Node: InceptionV3/Mixed_7c/Branch_0/Conv2d_0a_1x1/weights/read = Identity[T=DT_FLOAT, _device=\"/job:localhost/replica:0/task:0/device:GPU:0\"](InceptionV3/Mixed_7c/Branch_0/Conv2d_0a_1x1/weights)]]\n\t [[Node: ArgMax_8/_7 = _Recv[client_terminated=false, recv_device=\"/job:localhost/replica:0/task:0/device:CPU:0\", send_device=\"/job:localhost/replica:0/task:0/device:GPU:0\", send_device_incarnation=1, tensor_name=\"edge_1632_ArgMax_8\", tensor_type=DT_INT64, _device=\"/job:localhost/replica:0/task:0/device:CPU:0\"]()]]\n"
     ]
    }
   ],
   "source": [
    "compare = []\n",
    "for i in range(len(images)):\n",
    "    pred = model.predict(images[i])\n",
    "    if pred == labels[i]:\n",
    "        compare.append(1)\n",
    "    else:\n",
    "        compare.append(0)\n",
    "print(\"accuracy of this model:\", sum(compare)/len(compare))"
   ]
  },
  {
   "cell_type": "code",
   "execution_count": 35,
   "metadata": {},
   "outputs": [
    {
     "name": "stdout",
     "output_type": "stream",
     "text": [
      "================attacking image  5 =======================\n"
     ]
    },
    {
     "ename": "FailedPreconditionError",
     "evalue": "Attempting to use uninitialized value InceptionV3/Mixed_7c/Branch_0/Conv2d_0a_1x1/weights\n\t [[Node: InceptionV3/Mixed_7c/Branch_0/Conv2d_0a_1x1/weights/read = Identity[T=DT_FLOAT, _device=\"/job:localhost/replica:0/task:0/device:GPU:0\"](InceptionV3/Mixed_7c/Branch_0/Conv2d_0a_1x1/weights)]]\n\t [[Node: ArgMax_8/_7 = _Recv[client_terminated=false, recv_device=\"/job:localhost/replica:0/task:0/device:CPU:0\", send_device=\"/job:localhost/replica:0/task:0/device:GPU:0\", send_device_incarnation=1, tensor_name=\"edge_1632_ArgMax_8\", tensor_type=DT_INT64, _device=\"/job:localhost/replica:0/task:0/device:CPU:0\"]()]]\n\nCaused by op 'InceptionV3/Mixed_7c/Branch_0/Conv2d_0a_1x1/weights/read', defined at:\n  File \"/home/yusu/anaconda3/lib/python3.6/runpy.py\", line 193, in _run_module_as_main\n    \"__main__\", mod_spec)\n  File \"/home/yusu/anaconda3/lib/python3.6/runpy.py\", line 85, in _run_code\n    exec(code, run_globals)\n  File \"/home/yusu/anaconda3/lib/python3.6/site-packages/ipykernel_launcher.py\", line 16, in <module>\n    app.launch_new_instance()\n  File \"/home/yusu/anaconda3/lib/python3.6/site-packages/traitlets/config/application.py\", line 658, in launch_instance\n    app.start()\n  File \"/home/yusu/anaconda3/lib/python3.6/site-packages/ipykernel/kernelapp.py\", line 477, in start\n    ioloop.IOLoop.instance().start()\n  File \"/home/yusu/anaconda3/lib/python3.6/site-packages/zmq/eventloop/ioloop.py\", line 177, in start\n    super(ZMQIOLoop, self).start()\n  File \"/home/yusu/anaconda3/lib/python3.6/site-packages/tornado/ioloop.py\", line 888, in start\n    handler_func(fd_obj, events)\n  File \"/home/yusu/anaconda3/lib/python3.6/site-packages/tornado/stack_context.py\", line 277, in null_wrapper\n    return fn(*args, **kwargs)\n  File \"/home/yusu/anaconda3/lib/python3.6/site-packages/zmq/eventloop/zmqstream.py\", line 440, in _handle_events\n    self._handle_recv()\n  File \"/home/yusu/anaconda3/lib/python3.6/site-packages/zmq/eventloop/zmqstream.py\", line 472, in _handle_recv\n    self._run_callback(callback, msg)\n  File \"/home/yusu/anaconda3/lib/python3.6/site-packages/zmq/eventloop/zmqstream.py\", line 414, in _run_callback\n    callback(*args, **kwargs)\n  File \"/home/yusu/anaconda3/lib/python3.6/site-packages/tornado/stack_context.py\", line 277, in null_wrapper\n    return fn(*args, **kwargs)\n  File \"/home/yusu/anaconda3/lib/python3.6/site-packages/ipykernel/kernelbase.py\", line 283, in dispatcher\n    return self.dispatch_shell(stream, msg)\n  File \"/home/yusu/anaconda3/lib/python3.6/site-packages/ipykernel/kernelbase.py\", line 235, in dispatch_shell\n    handler(stream, idents, msg)\n  File \"/home/yusu/anaconda3/lib/python3.6/site-packages/ipykernel/kernelbase.py\", line 399, in execute_request\n    user_expressions, allow_stdin)\n  File \"/home/yusu/anaconda3/lib/python3.6/site-packages/ipykernel/ipkernel.py\", line 196, in do_execute\n    res = shell.run_cell(code, store_history=store_history, silent=silent)\n  File \"/home/yusu/anaconda3/lib/python3.6/site-packages/ipykernel/zmqshell.py\", line 533, in run_cell\n    return super(ZMQInteractiveShell, self).run_cell(*args, **kwargs)\n  File \"/home/yusu/anaconda3/lib/python3.6/site-packages/IPython/core/interactiveshell.py\", line 2698, in run_cell\n    interactivity=interactivity, compiler=compiler, result=result)\n  File \"/home/yusu/anaconda3/lib/python3.6/site-packages/IPython/core/interactiveshell.py\", line 2802, in run_ast_nodes\n    if self.run_code(code, result):\n  File \"/home/yusu/anaconda3/lib/python3.6/site-packages/IPython/core/interactiveshell.py\", line 2862, in run_code\n    exec(code_obj, self.user_global_ns, self.user_ns)\n  File \"<ipython-input-4-c17215137e36>\", line 2, in <module>\n    model = MyModel(inceptionv3,sess,[0.0,1.0])\n  File \"/home/yusu/obfuscated-gradients/baseline_incepv3/wrapper.py\", line 24, in __init__\n    self.logits, self.preds = self.model.model(self.sess, self.x_expanded)\n  File \"/home/yusu/obfuscated-gradients/baseline_incepv3/inceptionv3.py\", line 44, in model\n    logits, _ = network_fn(preprocessed)\n  File \"/home/yusu/obfuscated-gradients/baseline_incepv3/inceptionv3.py\", line 21, in network_fn\n    return func(images, 1001, is_training=False, reuse=reuse)\n  File \"/home/yusu/anaconda3/lib/python3.6/site-packages/tensorflow/contrib/slim/python/slim/nets/inception_v3.py\", line 580, in inception_v3\n    depth_multiplier=depth_multiplier)\n  File \"/home/yusu/anaconda3/lib/python3.6/site-packages/tensorflow/contrib/slim/python/slim/nets/inception_v3.py\", line 477, in inception_v3_base\n    net, depth(320), [1, 1], scope='Conv2d_0a_1x1')\n  File \"/home/yusu/anaconda3/lib/python3.6/site-packages/tensorflow/contrib/framework/python/ops/arg_scope.py\", line 183, in func_with_args\n    return func(*args, **current_args)\n  File \"/home/yusu/anaconda3/lib/python3.6/site-packages/tensorflow/contrib/layers/python/layers/layers.py\", line 1154, in convolution2d\n    conv_dims=2)\n  File \"/home/yusu/anaconda3/lib/python3.6/site-packages/tensorflow/contrib/framework/python/ops/arg_scope.py\", line 183, in func_with_args\n    return func(*args, **current_args)\n  File \"/home/yusu/anaconda3/lib/python3.6/site-packages/tensorflow/contrib/layers/python/layers/layers.py\", line 1057, in convolution\n    outputs = layer.apply(inputs)\n  File \"/home/yusu/anaconda3/lib/python3.6/site-packages/tensorflow/python/keras/engine/base_layer.py\", line 774, in apply\n    return self.__call__(inputs, *args, **kwargs)\n  File \"/home/yusu/anaconda3/lib/python3.6/site-packages/tensorflow/python/layers/base.py\", line 329, in __call__\n    outputs = super(Layer, self).__call__(inputs, *args, **kwargs)\n  File \"/home/yusu/anaconda3/lib/python3.6/site-packages/tensorflow/python/keras/engine/base_layer.py\", line 696, in __call__\n    self.build(input_shapes)\n  File \"/home/yusu/anaconda3/lib/python3.6/site-packages/tensorflow/python/keras/layers/convolutional.py\", line 160, in build\n    dtype=self.dtype)\n  File \"/home/yusu/anaconda3/lib/python3.6/site-packages/tensorflow/python/keras/engine/base_layer.py\", line 460, in add_variable\n    return self.add_weight(*args, **kwargs)\n  File \"/home/yusu/anaconda3/lib/python3.6/site-packages/tensorflow/python/layers/base.py\", line 243, in add_weight\n    getter=vs.get_variable)\n  File \"/home/yusu/anaconda3/lib/python3.6/site-packages/tensorflow/python/keras/engine/base_layer.py\", line 534, in add_weight\n    use_resource=use_resource)\n  File \"/home/yusu/anaconda3/lib/python3.6/site-packages/tensorflow/python/training/checkpointable/base.py\", line 497, in _add_variable_with_custom_getter\n    **kwargs_for_getter)\n  File \"/home/yusu/anaconda3/lib/python3.6/site-packages/tensorflow/python/ops/variable_scope.py\", line 1328, in get_variable\n    constraint=constraint)\n  File \"/home/yusu/anaconda3/lib/python3.6/site-packages/tensorflow/python/ops/variable_scope.py\", line 1090, in get_variable\n    constraint=constraint)\n  File \"/home/yusu/anaconda3/lib/python3.6/site-packages/tensorflow/python/ops/variable_scope.py\", line 427, in get_variable\n    return custom_getter(**custom_getter_kwargs)\n  File \"/home/yusu/anaconda3/lib/python3.6/site-packages/tensorflow/contrib/layers/python/layers/layers.py\", line 1744, in layer_variable_getter\n    return _model_variable_getter(getter, *args, **kwargs)\n  File \"/home/yusu/anaconda3/lib/python3.6/site-packages/tensorflow/contrib/layers/python/layers/layers.py\", line 1735, in _model_variable_getter\n    use_resource=use_resource)\n  File \"/home/yusu/anaconda3/lib/python3.6/site-packages/tensorflow/contrib/framework/python/ops/arg_scope.py\", line 183, in func_with_args\n    return func(*args, **current_args)\n  File \"/home/yusu/anaconda3/lib/python3.6/site-packages/tensorflow/contrib/framework/python/ops/variables.py\", line 297, in model_variable\n    use_resource=use_resource)\n  File \"/home/yusu/anaconda3/lib/python3.6/site-packages/tensorflow/contrib/framework/python/ops/arg_scope.py\", line 183, in func_with_args\n    return func(*args, **current_args)\n  File \"/home/yusu/anaconda3/lib/python3.6/site-packages/tensorflow/contrib/framework/python/ops/variables.py\", line 252, in variable\n    use_resource=use_resource)\n  File \"/home/yusu/anaconda3/lib/python3.6/site-packages/tensorflow/python/ops/variable_scope.py\", line 404, in _true_getter\n    use_resource=use_resource, constraint=constraint)\n  File \"/home/yusu/anaconda3/lib/python3.6/site-packages/tensorflow/python/ops/variable_scope.py\", line 796, in _get_single_variable\n    use_resource=use_resource)\n  File \"/home/yusu/anaconda3/lib/python3.6/site-packages/tensorflow/python/ops/variable_scope.py\", line 2234, in variable\n    use_resource=use_resource)\n  File \"/home/yusu/anaconda3/lib/python3.6/site-packages/tensorflow/python/ops/variable_scope.py\", line 2224, in <lambda>\n    previous_getter = lambda **kwargs: default_variable_creator(None, **kwargs)\n  File \"/home/yusu/anaconda3/lib/python3.6/site-packages/tensorflow/python/ops/variable_scope.py\", line 2207, in default_variable_creator\n    constraint=constraint)\n  File \"/home/yusu/anaconda3/lib/python3.6/site-packages/tensorflow/python/ops/variables.py\", line 259, in __init__\n    constraint=constraint)\n  File \"/home/yusu/anaconda3/lib/python3.6/site-packages/tensorflow/python/ops/variables.py\", line 422, in _init_from_args\n    self._snapshot = array_ops.identity(self._variable, name=\"read\")\n  File \"/home/yusu/anaconda3/lib/python3.6/site-packages/tensorflow/python/ops/array_ops.py\", line 79, in identity\n    return gen_array_ops.identity(input, name=name)\n  File \"/home/yusu/anaconda3/lib/python3.6/site-packages/tensorflow/python/ops/gen_array_ops.py\", line 3263, in identity\n    \"Identity\", input=input, name=name)\n  File \"/home/yusu/anaconda3/lib/python3.6/site-packages/tensorflow/python/framework/op_def_library.py\", line 787, in _apply_op_helper\n    op_def=op_def)\n  File \"/home/yusu/anaconda3/lib/python3.6/site-packages/tensorflow/python/framework/ops.py\", line 3414, in create_op\n    op_def=op_def)\n  File \"/home/yusu/anaconda3/lib/python3.6/site-packages/tensorflow/python/framework/ops.py\", line 1740, in __init__\n    self._traceback = self._graph._extract_stack()  # pylint: disable=protected-access\n\nFailedPreconditionError (see above for traceback): Attempting to use uninitialized value InceptionV3/Mixed_7c/Branch_0/Conv2d_0a_1x1/weights\n\t [[Node: InceptionV3/Mixed_7c/Branch_0/Conv2d_0a_1x1/weights/read = Identity[T=DT_FLOAT, _device=\"/job:localhost/replica:0/task:0/device:GPU:0\"](InceptionV3/Mixed_7c/Branch_0/Conv2d_0a_1x1/weights)]]\n\t [[Node: ArgMax_8/_7 = _Recv[client_terminated=false, recv_device=\"/job:localhost/replica:0/task:0/device:CPU:0\", send_device=\"/job:localhost/replica:0/task:0/device:GPU:0\", send_device_incarnation=1, tensor_name=\"edge_1632_ArgMax_8\", tensor_type=DT_INT64, _device=\"/job:localhost/replica:0/task:0/device:CPU:0\"]()]]\n",
     "output_type": "error",
     "traceback": [
      "\u001b[0;31m---------------------------------------------------------------------------\u001b[0m",
      "\u001b[0;31mFailedPreconditionError\u001b[0m                   Traceback (most recent call last)",
      "\u001b[0;32m~/anaconda3/lib/python3.6/site-packages/tensorflow/python/client/session.py\u001b[0m in \u001b[0;36m_do_call\u001b[0;34m(self, fn, *args)\u001b[0m\n\u001b[1;32m   1321\u001b[0m     \u001b[0;32mtry\u001b[0m\u001b[0;34m:\u001b[0m\u001b[0;34m\u001b[0m\u001b[0m\n\u001b[0;32m-> 1322\u001b[0;31m       \u001b[0;32mreturn\u001b[0m \u001b[0mfn\u001b[0m\u001b[0;34m(\u001b[0m\u001b[0;34m*\u001b[0m\u001b[0margs\u001b[0m\u001b[0;34m)\u001b[0m\u001b[0;34m\u001b[0m\u001b[0m\n\u001b[0m\u001b[1;32m   1323\u001b[0m     \u001b[0;32mexcept\u001b[0m \u001b[0merrors\u001b[0m\u001b[0;34m.\u001b[0m\u001b[0mOpError\u001b[0m \u001b[0;32mas\u001b[0m \u001b[0me\u001b[0m\u001b[0;34m:\u001b[0m\u001b[0;34m\u001b[0m\u001b[0m\n",
      "\u001b[0;32m~/anaconda3/lib/python3.6/site-packages/tensorflow/python/client/session.py\u001b[0m in \u001b[0;36m_run_fn\u001b[0;34m(feed_dict, fetch_list, target_list, options, run_metadata)\u001b[0m\n\u001b[1;32m   1306\u001b[0m       return self._call_tf_sessionrun(\n\u001b[0;32m-> 1307\u001b[0;31m           options, feed_dict, fetch_list, target_list, run_metadata)\n\u001b[0m\u001b[1;32m   1308\u001b[0m \u001b[0;34m\u001b[0m\u001b[0m\n",
      "\u001b[0;32m~/anaconda3/lib/python3.6/site-packages/tensorflow/python/client/session.py\u001b[0m in \u001b[0;36m_call_tf_sessionrun\u001b[0;34m(self, options, feed_dict, fetch_list, target_list, run_metadata)\u001b[0m\n\u001b[1;32m   1408\u001b[0m           \u001b[0mself\u001b[0m\u001b[0;34m.\u001b[0m\u001b[0m_session\u001b[0m\u001b[0;34m,\u001b[0m \u001b[0moptions\u001b[0m\u001b[0;34m,\u001b[0m \u001b[0mfeed_dict\u001b[0m\u001b[0;34m,\u001b[0m \u001b[0mfetch_list\u001b[0m\u001b[0;34m,\u001b[0m \u001b[0mtarget_list\u001b[0m\u001b[0;34m,\u001b[0m\u001b[0;34m\u001b[0m\u001b[0m\n\u001b[0;32m-> 1409\u001b[0;31m           run_metadata)\n\u001b[0m\u001b[1;32m   1410\u001b[0m     \u001b[0;32melse\u001b[0m\u001b[0;34m:\u001b[0m\u001b[0;34m\u001b[0m\u001b[0m\n",
      "\u001b[0;31mFailedPreconditionError\u001b[0m: Attempting to use uninitialized value InceptionV3/Mixed_7c/Branch_0/Conv2d_0a_1x1/weights\n\t [[Node: InceptionV3/Mixed_7c/Branch_0/Conv2d_0a_1x1/weights/read = Identity[T=DT_FLOAT, _device=\"/job:localhost/replica:0/task:0/device:GPU:0\"](InceptionV3/Mixed_7c/Branch_0/Conv2d_0a_1x1/weights)]]\n\t [[Node: ArgMax_8/_7 = _Recv[client_terminated=false, recv_device=\"/job:localhost/replica:0/task:0/device:CPU:0\", send_device=\"/job:localhost/replica:0/task:0/device:GPU:0\", send_device_incarnation=1, tensor_name=\"edge_1632_ArgMax_8\", tensor_type=DT_INT64, _device=\"/job:localhost/replica:0/task:0/device:CPU:0\"]()]]",
      "\nDuring handling of the above exception, another exception occurred:\n",
      "\u001b[0;31mFailedPreconditionError\u001b[0m                   Traceback (most recent call last)",
      "\u001b[0;32m<ipython-input-35-a019d5a3c8a4>\u001b[0m in \u001b[0;36m<module>\u001b[0;34m()\u001b[0m\n\u001b[1;32m      5\u001b[0m \u001b[0;32mfor\u001b[0m \u001b[0mi\u001b[0m \u001b[0;32min\u001b[0m \u001b[0mindex\u001b[0m\u001b[0;34m:\u001b[0m\u001b[0;34m\u001b[0m\u001b[0m\n\u001b[1;32m      6\u001b[0m     \u001b[0mprint\u001b[0m\u001b[0;34m(\u001b[0m\u001b[0;34m\"================attacking image \"\u001b[0m\u001b[0;34m,\u001b[0m\u001b[0mi\u001b[0m\u001b[0;34m+\u001b[0m\u001b[0;36m1\u001b[0m\u001b[0;34m,\u001b[0m\u001b[0;34m\"=======================\"\u001b[0m\u001b[0;34m)\u001b[0m\u001b[0;34m\u001b[0m\u001b[0m\n\u001b[0;32m----> 7\u001b[0;31m     \u001b[0madv\u001b[0m\u001b[0;34m,\u001b[0m\u001b[0mqueries\u001b[0m\u001b[0;34m,\u001b[0m\u001b[0mquery_thre\u001b[0m \u001b[0;34m=\u001b[0m \u001b[0mattack\u001b[0m\u001b[0;34m.\u001b[0m\u001b[0mattack_untargeted\u001b[0m\u001b[0;34m(\u001b[0m\u001b[0mimages\u001b[0m\u001b[0;34m[\u001b[0m\u001b[0mi\u001b[0m\u001b[0;34m]\u001b[0m\u001b[0;34m,\u001b[0m\u001b[0mlabels\u001b[0m\u001b[0;34m[\u001b[0m\u001b[0mi\u001b[0m\u001b[0;34m]\u001b[0m\u001b[0;34m,\u001b[0m\u001b[0malpha\u001b[0m \u001b[0;34m=\u001b[0m \u001b[0;36m4\u001b[0m\u001b[0;34m,\u001b[0m \u001b[0mbeta\u001b[0m \u001b[0;34m=\u001b[0m \u001b[0;36m0.05\u001b[0m\u001b[0;34m,\u001b[0m \u001b[0miterations\u001b[0m \u001b[0;34m=\u001b[0m \u001b[0;36m1000\u001b[0m\u001b[0;34m)\u001b[0m\u001b[0;34m\u001b[0m\u001b[0m\n\u001b[0m\u001b[1;32m      8\u001b[0m     \u001b[0mdist\u001b[0m\u001b[0;34m.\u001b[0m\u001b[0mappend\u001b[0m\u001b[0;34m(\u001b[0m\u001b[0mnp\u001b[0m\u001b[0;34m.\u001b[0m\u001b[0mlinalg\u001b[0m\u001b[0;34m.\u001b[0m\u001b[0mnorm\u001b[0m\u001b[0;34m(\u001b[0m\u001b[0madv\u001b[0m\u001b[0;34m-\u001b[0m\u001b[0mimages\u001b[0m\u001b[0;34m[\u001b[0m\u001b[0mi\u001b[0m\u001b[0;34m]\u001b[0m\u001b[0;34m)\u001b[0m\u001b[0;34m)\u001b[0m\u001b[0;34m\u001b[0m\u001b[0m\n\u001b[1;32m      9\u001b[0m     \u001b[0mcount\u001b[0m\u001b[0;34m.\u001b[0m\u001b[0mappend\u001b[0m\u001b[0;34m(\u001b[0m\u001b[0mqueries\u001b[0m\u001b[0;34m)\u001b[0m\u001b[0;34m\u001b[0m\u001b[0m\n",
      "\u001b[0;32m<ipython-input-31-37ed73986fb0>\u001b[0m in \u001b[0;36mattack_untargeted\u001b[0;34m(self, x0, y0, alpha, beta, iterations)\u001b[0m\n\u001b[1;32m     11\u001b[0m             \u001b[0;34m(\u001b[0m\u001b[0mx0\u001b[0m\u001b[0;34m,\u001b[0m \u001b[0my0\u001b[0m\u001b[0;34m)\u001b[0m\u001b[0;34m:\u001b[0m \u001b[0moriginal\u001b[0m \u001b[0mimage\u001b[0m\u001b[0;34m\u001b[0m\u001b[0m\n\u001b[1;32m     12\u001b[0m         \"\"\"\n\u001b[0;32m---> 13\u001b[0;31m         \u001b[0mpred\u001b[0m \u001b[0;34m=\u001b[0m \u001b[0mself\u001b[0m\u001b[0;34m.\u001b[0m\u001b[0mmodel\u001b[0m\u001b[0;34m.\u001b[0m\u001b[0mpredict\u001b[0m\u001b[0;34m(\u001b[0m\u001b[0mx0\u001b[0m\u001b[0;34m)\u001b[0m\u001b[0;34m\u001b[0m\u001b[0m\n\u001b[0m\u001b[1;32m     14\u001b[0m         \u001b[0mprint\u001b[0m\u001b[0;34m(\u001b[0m\u001b[0;34m\"predicted label:\"\u001b[0m\u001b[0;34m,\u001b[0m \u001b[0mpred\u001b[0m\u001b[0;34m)\u001b[0m\u001b[0;34m\u001b[0m\u001b[0m\n\u001b[1;32m     15\u001b[0m         \u001b[0mprint\u001b[0m\u001b[0;34m(\u001b[0m\u001b[0;34m\"true label:\"\u001b[0m\u001b[0;34m,\u001b[0m \u001b[0my0\u001b[0m\u001b[0;34m)\u001b[0m\u001b[0;34m\u001b[0m\u001b[0m\n",
      "\u001b[0;32m~/obfuscated-gradients/baseline_incepv3/wrapper.py\u001b[0m in \u001b[0;36mpredict\u001b[0;34m(self, image)\u001b[0m\n\u001b[1;32m     32\u001b[0m \u001b[0;34m\u001b[0m\u001b[0m\n\u001b[1;32m     33\u001b[0m \u001b[0;31m#        adv_def = defend_tv(new_img)\u001b[0m\u001b[0;34m\u001b[0m\u001b[0;34m\u001b[0m\u001b[0m\n\u001b[0;32m---> 34\u001b[0;31m         \u001b[0mlabels\u001b[0m \u001b[0;34m=\u001b[0m \u001b[0mself\u001b[0m\u001b[0;34m.\u001b[0m\u001b[0msess\u001b[0m\u001b[0;34m.\u001b[0m\u001b[0mrun\u001b[0m\u001b[0;34m(\u001b[0m\u001b[0;34m[\u001b[0m\u001b[0mself\u001b[0m\u001b[0;34m.\u001b[0m\u001b[0mpreds\u001b[0m\u001b[0;34m]\u001b[0m\u001b[0;34m,\u001b[0m \u001b[0;34m{\u001b[0m\u001b[0mself\u001b[0m\u001b[0;34m.\u001b[0m\u001b[0mx\u001b[0m\u001b[0;34m:\u001b[0m \u001b[0mnew_img\u001b[0m\u001b[0;34m}\u001b[0m\u001b[0;34m)\u001b[0m\u001b[0;34m\u001b[0m\u001b[0m\n\u001b[0m\u001b[1;32m     35\u001b[0m         \u001b[0;31m#print(\"type of preds[0] is: \",type(preds[0]))\u001b[0m\u001b[0;34m\u001b[0m\u001b[0;34m\u001b[0m\u001b[0m\n\u001b[1;32m     36\u001b[0m         \u001b[0;32mreturn\u001b[0m \u001b[0mlabels\u001b[0m\u001b[0;34m[\u001b[0m\u001b[0;36m0\u001b[0m\u001b[0;34m]\u001b[0m\u001b[0;34m\u001b[0m\u001b[0m\n",
      "\u001b[0;32m~/anaconda3/lib/python3.6/site-packages/tensorflow/python/client/session.py\u001b[0m in \u001b[0;36mrun\u001b[0;34m(self, fetches, feed_dict, options, run_metadata)\u001b[0m\n\u001b[1;32m    898\u001b[0m     \u001b[0;32mtry\u001b[0m\u001b[0;34m:\u001b[0m\u001b[0;34m\u001b[0m\u001b[0m\n\u001b[1;32m    899\u001b[0m       result = self._run(None, fetches, feed_dict, options_ptr,\n\u001b[0;32m--> 900\u001b[0;31m                          run_metadata_ptr)\n\u001b[0m\u001b[1;32m    901\u001b[0m       \u001b[0;32mif\u001b[0m \u001b[0mrun_metadata\u001b[0m\u001b[0;34m:\u001b[0m\u001b[0;34m\u001b[0m\u001b[0m\n\u001b[1;32m    902\u001b[0m         \u001b[0mproto_data\u001b[0m \u001b[0;34m=\u001b[0m \u001b[0mtf_session\u001b[0m\u001b[0;34m.\u001b[0m\u001b[0mTF_GetBuffer\u001b[0m\u001b[0;34m(\u001b[0m\u001b[0mrun_metadata_ptr\u001b[0m\u001b[0;34m)\u001b[0m\u001b[0;34m\u001b[0m\u001b[0m\n",
      "\u001b[0;32m~/anaconda3/lib/python3.6/site-packages/tensorflow/python/client/session.py\u001b[0m in \u001b[0;36m_run\u001b[0;34m(self, handle, fetches, feed_dict, options, run_metadata)\u001b[0m\n\u001b[1;32m   1133\u001b[0m     \u001b[0;32mif\u001b[0m \u001b[0mfinal_fetches\u001b[0m \u001b[0;32mor\u001b[0m \u001b[0mfinal_targets\u001b[0m \u001b[0;32mor\u001b[0m \u001b[0;34m(\u001b[0m\u001b[0mhandle\u001b[0m \u001b[0;32mand\u001b[0m \u001b[0mfeed_dict_tensor\u001b[0m\u001b[0;34m)\u001b[0m\u001b[0;34m:\u001b[0m\u001b[0;34m\u001b[0m\u001b[0m\n\u001b[1;32m   1134\u001b[0m       results = self._do_run(handle, final_targets, final_fetches,\n\u001b[0;32m-> 1135\u001b[0;31m                              feed_dict_tensor, options, run_metadata)\n\u001b[0m\u001b[1;32m   1136\u001b[0m     \u001b[0;32melse\u001b[0m\u001b[0;34m:\u001b[0m\u001b[0;34m\u001b[0m\u001b[0m\n\u001b[1;32m   1137\u001b[0m       \u001b[0mresults\u001b[0m \u001b[0;34m=\u001b[0m \u001b[0;34m[\u001b[0m\u001b[0;34m]\u001b[0m\u001b[0;34m\u001b[0m\u001b[0m\n",
      "\u001b[0;32m~/anaconda3/lib/python3.6/site-packages/tensorflow/python/client/session.py\u001b[0m in \u001b[0;36m_do_run\u001b[0;34m(self, handle, target_list, fetch_list, feed_dict, options, run_metadata)\u001b[0m\n\u001b[1;32m   1314\u001b[0m     \u001b[0;32mif\u001b[0m \u001b[0mhandle\u001b[0m \u001b[0;32mis\u001b[0m \u001b[0;32mNone\u001b[0m\u001b[0;34m:\u001b[0m\u001b[0;34m\u001b[0m\u001b[0m\n\u001b[1;32m   1315\u001b[0m       return self._do_call(_run_fn, feeds, fetches, targets, options,\n\u001b[0;32m-> 1316\u001b[0;31m                            run_metadata)\n\u001b[0m\u001b[1;32m   1317\u001b[0m     \u001b[0;32melse\u001b[0m\u001b[0;34m:\u001b[0m\u001b[0;34m\u001b[0m\u001b[0m\n\u001b[1;32m   1318\u001b[0m       \u001b[0;32mreturn\u001b[0m \u001b[0mself\u001b[0m\u001b[0;34m.\u001b[0m\u001b[0m_do_call\u001b[0m\u001b[0;34m(\u001b[0m\u001b[0m_prun_fn\u001b[0m\u001b[0;34m,\u001b[0m \u001b[0mhandle\u001b[0m\u001b[0;34m,\u001b[0m \u001b[0mfeeds\u001b[0m\u001b[0;34m,\u001b[0m \u001b[0mfetches\u001b[0m\u001b[0;34m)\u001b[0m\u001b[0;34m\u001b[0m\u001b[0m\n",
      "\u001b[0;32m~/anaconda3/lib/python3.6/site-packages/tensorflow/python/client/session.py\u001b[0m in \u001b[0;36m_do_call\u001b[0;34m(self, fn, *args)\u001b[0m\n\u001b[1;32m   1333\u001b[0m         \u001b[0;32mexcept\u001b[0m \u001b[0mKeyError\u001b[0m\u001b[0;34m:\u001b[0m\u001b[0;34m\u001b[0m\u001b[0m\n\u001b[1;32m   1334\u001b[0m           \u001b[0;32mpass\u001b[0m\u001b[0;34m\u001b[0m\u001b[0m\n\u001b[0;32m-> 1335\u001b[0;31m       \u001b[0;32mraise\u001b[0m \u001b[0mtype\u001b[0m\u001b[0;34m(\u001b[0m\u001b[0me\u001b[0m\u001b[0;34m)\u001b[0m\u001b[0;34m(\u001b[0m\u001b[0mnode_def\u001b[0m\u001b[0;34m,\u001b[0m \u001b[0mop\u001b[0m\u001b[0;34m,\u001b[0m \u001b[0mmessage\u001b[0m\u001b[0;34m)\u001b[0m\u001b[0;34m\u001b[0m\u001b[0m\n\u001b[0m\u001b[1;32m   1336\u001b[0m \u001b[0;34m\u001b[0m\u001b[0m\n\u001b[1;32m   1337\u001b[0m   \u001b[0;32mdef\u001b[0m \u001b[0m_extend_graph\u001b[0m\u001b[0;34m(\u001b[0m\u001b[0mself\u001b[0m\u001b[0;34m)\u001b[0m\u001b[0;34m:\u001b[0m\u001b[0;34m\u001b[0m\u001b[0m\n",
      "\u001b[0;31mFailedPreconditionError\u001b[0m: Attempting to use uninitialized value InceptionV3/Mixed_7c/Branch_0/Conv2d_0a_1x1/weights\n\t [[Node: InceptionV3/Mixed_7c/Branch_0/Conv2d_0a_1x1/weights/read = Identity[T=DT_FLOAT, _device=\"/job:localhost/replica:0/task:0/device:GPU:0\"](InceptionV3/Mixed_7c/Branch_0/Conv2d_0a_1x1/weights)]]\n\t [[Node: ArgMax_8/_7 = _Recv[client_terminated=false, recv_device=\"/job:localhost/replica:0/task:0/device:CPU:0\", send_device=\"/job:localhost/replica:0/task:0/device:GPU:0\", send_device_incarnation=1, tensor_name=\"edge_1632_ArgMax_8\", tensor_type=DT_INT64, _device=\"/job:localhost/replica:0/task:0/device:CPU:0\"]()]]\n\nCaused by op 'InceptionV3/Mixed_7c/Branch_0/Conv2d_0a_1x1/weights/read', defined at:\n  File \"/home/yusu/anaconda3/lib/python3.6/runpy.py\", line 193, in _run_module_as_main\n    \"__main__\", mod_spec)\n  File \"/home/yusu/anaconda3/lib/python3.6/runpy.py\", line 85, in _run_code\n    exec(code, run_globals)\n  File \"/home/yusu/anaconda3/lib/python3.6/site-packages/ipykernel_launcher.py\", line 16, in <module>\n    app.launch_new_instance()\n  File \"/home/yusu/anaconda3/lib/python3.6/site-packages/traitlets/config/application.py\", line 658, in launch_instance\n    app.start()\n  File \"/home/yusu/anaconda3/lib/python3.6/site-packages/ipykernel/kernelapp.py\", line 477, in start\n    ioloop.IOLoop.instance().start()\n  File \"/home/yusu/anaconda3/lib/python3.6/site-packages/zmq/eventloop/ioloop.py\", line 177, in start\n    super(ZMQIOLoop, self).start()\n  File \"/home/yusu/anaconda3/lib/python3.6/site-packages/tornado/ioloop.py\", line 888, in start\n    handler_func(fd_obj, events)\n  File \"/home/yusu/anaconda3/lib/python3.6/site-packages/tornado/stack_context.py\", line 277, in null_wrapper\n    return fn(*args, **kwargs)\n  File \"/home/yusu/anaconda3/lib/python3.6/site-packages/zmq/eventloop/zmqstream.py\", line 440, in _handle_events\n    self._handle_recv()\n  File \"/home/yusu/anaconda3/lib/python3.6/site-packages/zmq/eventloop/zmqstream.py\", line 472, in _handle_recv\n    self._run_callback(callback, msg)\n  File \"/home/yusu/anaconda3/lib/python3.6/site-packages/zmq/eventloop/zmqstream.py\", line 414, in _run_callback\n    callback(*args, **kwargs)\n  File \"/home/yusu/anaconda3/lib/python3.6/site-packages/tornado/stack_context.py\", line 277, in null_wrapper\n    return fn(*args, **kwargs)\n  File \"/home/yusu/anaconda3/lib/python3.6/site-packages/ipykernel/kernelbase.py\", line 283, in dispatcher\n    return self.dispatch_shell(stream, msg)\n  File \"/home/yusu/anaconda3/lib/python3.6/site-packages/ipykernel/kernelbase.py\", line 235, in dispatch_shell\n    handler(stream, idents, msg)\n  File \"/home/yusu/anaconda3/lib/python3.6/site-packages/ipykernel/kernelbase.py\", line 399, in execute_request\n    user_expressions, allow_stdin)\n  File \"/home/yusu/anaconda3/lib/python3.6/site-packages/ipykernel/ipkernel.py\", line 196, in do_execute\n    res = shell.run_cell(code, store_history=store_history, silent=silent)\n  File \"/home/yusu/anaconda3/lib/python3.6/site-packages/ipykernel/zmqshell.py\", line 533, in run_cell\n    return super(ZMQInteractiveShell, self).run_cell(*args, **kwargs)\n  File \"/home/yusu/anaconda3/lib/python3.6/site-packages/IPython/core/interactiveshell.py\", line 2698, in run_cell\n    interactivity=interactivity, compiler=compiler, result=result)\n  File \"/home/yusu/anaconda3/lib/python3.6/site-packages/IPython/core/interactiveshell.py\", line 2802, in run_ast_nodes\n    if self.run_code(code, result):\n  File \"/home/yusu/anaconda3/lib/python3.6/site-packages/IPython/core/interactiveshell.py\", line 2862, in run_code\n    exec(code_obj, self.user_global_ns, self.user_ns)\n  File \"<ipython-input-4-c17215137e36>\", line 2, in <module>\n    model = MyModel(inceptionv3,sess,[0.0,1.0])\n  File \"/home/yusu/obfuscated-gradients/baseline_incepv3/wrapper.py\", line 24, in __init__\n    self.logits, self.preds = self.model.model(self.sess, self.x_expanded)\n  File \"/home/yusu/obfuscated-gradients/baseline_incepv3/inceptionv3.py\", line 44, in model\n    logits, _ = network_fn(preprocessed)\n  File \"/home/yusu/obfuscated-gradients/baseline_incepv3/inceptionv3.py\", line 21, in network_fn\n    return func(images, 1001, is_training=False, reuse=reuse)\n  File \"/home/yusu/anaconda3/lib/python3.6/site-packages/tensorflow/contrib/slim/python/slim/nets/inception_v3.py\", line 580, in inception_v3\n    depth_multiplier=depth_multiplier)\n  File \"/home/yusu/anaconda3/lib/python3.6/site-packages/tensorflow/contrib/slim/python/slim/nets/inception_v3.py\", line 477, in inception_v3_base\n    net, depth(320), [1, 1], scope='Conv2d_0a_1x1')\n  File \"/home/yusu/anaconda3/lib/python3.6/site-packages/tensorflow/contrib/framework/python/ops/arg_scope.py\", line 183, in func_with_args\n    return func(*args, **current_args)\n  File \"/home/yusu/anaconda3/lib/python3.6/site-packages/tensorflow/contrib/layers/python/layers/layers.py\", line 1154, in convolution2d\n    conv_dims=2)\n  File \"/home/yusu/anaconda3/lib/python3.6/site-packages/tensorflow/contrib/framework/python/ops/arg_scope.py\", line 183, in func_with_args\n    return func(*args, **current_args)\n  File \"/home/yusu/anaconda3/lib/python3.6/site-packages/tensorflow/contrib/layers/python/layers/layers.py\", line 1057, in convolution\n    outputs = layer.apply(inputs)\n  File \"/home/yusu/anaconda3/lib/python3.6/site-packages/tensorflow/python/keras/engine/base_layer.py\", line 774, in apply\n    return self.__call__(inputs, *args, **kwargs)\n  File \"/home/yusu/anaconda3/lib/python3.6/site-packages/tensorflow/python/layers/base.py\", line 329, in __call__\n    outputs = super(Layer, self).__call__(inputs, *args, **kwargs)\n  File \"/home/yusu/anaconda3/lib/python3.6/site-packages/tensorflow/python/keras/engine/base_layer.py\", line 696, in __call__\n    self.build(input_shapes)\n  File \"/home/yusu/anaconda3/lib/python3.6/site-packages/tensorflow/python/keras/layers/convolutional.py\", line 160, in build\n    dtype=self.dtype)\n  File \"/home/yusu/anaconda3/lib/python3.6/site-packages/tensorflow/python/keras/engine/base_layer.py\", line 460, in add_variable\n    return self.add_weight(*args, **kwargs)\n  File \"/home/yusu/anaconda3/lib/python3.6/site-packages/tensorflow/python/layers/base.py\", line 243, in add_weight\n    getter=vs.get_variable)\n  File \"/home/yusu/anaconda3/lib/python3.6/site-packages/tensorflow/python/keras/engine/base_layer.py\", line 534, in add_weight\n    use_resource=use_resource)\n  File \"/home/yusu/anaconda3/lib/python3.6/site-packages/tensorflow/python/training/checkpointable/base.py\", line 497, in _add_variable_with_custom_getter\n    **kwargs_for_getter)\n  File \"/home/yusu/anaconda3/lib/python3.6/site-packages/tensorflow/python/ops/variable_scope.py\", line 1328, in get_variable\n    constraint=constraint)\n  File \"/home/yusu/anaconda3/lib/python3.6/site-packages/tensorflow/python/ops/variable_scope.py\", line 1090, in get_variable\n    constraint=constraint)\n  File \"/home/yusu/anaconda3/lib/python3.6/site-packages/tensorflow/python/ops/variable_scope.py\", line 427, in get_variable\n    return custom_getter(**custom_getter_kwargs)\n  File \"/home/yusu/anaconda3/lib/python3.6/site-packages/tensorflow/contrib/layers/python/layers/layers.py\", line 1744, in layer_variable_getter\n    return _model_variable_getter(getter, *args, **kwargs)\n  File \"/home/yusu/anaconda3/lib/python3.6/site-packages/tensorflow/contrib/layers/python/layers/layers.py\", line 1735, in _model_variable_getter\n    use_resource=use_resource)\n  File \"/home/yusu/anaconda3/lib/python3.6/site-packages/tensorflow/contrib/framework/python/ops/arg_scope.py\", line 183, in func_with_args\n    return func(*args, **current_args)\n  File \"/home/yusu/anaconda3/lib/python3.6/site-packages/tensorflow/contrib/framework/python/ops/variables.py\", line 297, in model_variable\n    use_resource=use_resource)\n  File \"/home/yusu/anaconda3/lib/python3.6/site-packages/tensorflow/contrib/framework/python/ops/arg_scope.py\", line 183, in func_with_args\n    return func(*args, **current_args)\n  File \"/home/yusu/anaconda3/lib/python3.6/site-packages/tensorflow/contrib/framework/python/ops/variables.py\", line 252, in variable\n    use_resource=use_resource)\n  File \"/home/yusu/anaconda3/lib/python3.6/site-packages/tensorflow/python/ops/variable_scope.py\", line 404, in _true_getter\n    use_resource=use_resource, constraint=constraint)\n  File \"/home/yusu/anaconda3/lib/python3.6/site-packages/tensorflow/python/ops/variable_scope.py\", line 796, in _get_single_variable\n    use_resource=use_resource)\n  File \"/home/yusu/anaconda3/lib/python3.6/site-packages/tensorflow/python/ops/variable_scope.py\", line 2234, in variable\n    use_resource=use_resource)\n  File \"/home/yusu/anaconda3/lib/python3.6/site-packages/tensorflow/python/ops/variable_scope.py\", line 2224, in <lambda>\n    previous_getter = lambda **kwargs: default_variable_creator(None, **kwargs)\n  File \"/home/yusu/anaconda3/lib/python3.6/site-packages/tensorflow/python/ops/variable_scope.py\", line 2207, in default_variable_creator\n    constraint=constraint)\n  File \"/home/yusu/anaconda3/lib/python3.6/site-packages/tensorflow/python/ops/variables.py\", line 259, in __init__\n    constraint=constraint)\n  File \"/home/yusu/anaconda3/lib/python3.6/site-packages/tensorflow/python/ops/variables.py\", line 422, in _init_from_args\n    self._snapshot = array_ops.identity(self._variable, name=\"read\")\n  File \"/home/yusu/anaconda3/lib/python3.6/site-packages/tensorflow/python/ops/array_ops.py\", line 79, in identity\n    return gen_array_ops.identity(input, name=name)\n  File \"/home/yusu/anaconda3/lib/python3.6/site-packages/tensorflow/python/ops/gen_array_ops.py\", line 3263, in identity\n    \"Identity\", input=input, name=name)\n  File \"/home/yusu/anaconda3/lib/python3.6/site-packages/tensorflow/python/framework/op_def_library.py\", line 787, in _apply_op_helper\n    op_def=op_def)\n  File \"/home/yusu/anaconda3/lib/python3.6/site-packages/tensorflow/python/framework/ops.py\", line 3414, in create_op\n    op_def=op_def)\n  File \"/home/yusu/anaconda3/lib/python3.6/site-packages/tensorflow/python/framework/ops.py\", line 1740, in __init__\n    self._traceback = self._graph._extract_stack()  # pylint: disable=protected-access\n\nFailedPreconditionError (see above for traceback): Attempting to use uninitialized value InceptionV3/Mixed_7c/Branch_0/Conv2d_0a_1x1/weights\n\t [[Node: InceptionV3/Mixed_7c/Branch_0/Conv2d_0a_1x1/weights/read = Identity[T=DT_FLOAT, _device=\"/job:localhost/replica:0/task:0/device:GPU:0\"](InceptionV3/Mixed_7c/Branch_0/Conv2d_0a_1x1/weights)]]\n\t [[Node: ArgMax_8/_7 = _Recv[client_terminated=false, recv_device=\"/job:localhost/replica:0/task:0/device:CPU:0\", send_device=\"/job:localhost/replica:0/task:0/device:GPU:0\", send_device_incarnation=1, tensor_name=\"edge_1632_ArgMax_8\", tensor_type=DT_INT64, _device=\"/job:localhost/replica:0/task:0/device:CPU:0\"]()]]\n"
     ]
    }
   ],
   "source": [
    "dist = []\n",
    "count = []\n",
    "threshold_query = []\n",
    "index = [4,5,6,7,8,9,10,11,12,13]\n",
    "for i in index:\n",
    "    print(\"================attacking image \",i+1,\"=======================\")\n",
    "    adv,queries,query_thre = attack.attack_untargeted(images[i],labels[i],alpha = 4, beta = 0.05, iterations = 1000)\n",
    "    dist.append(np.linalg.norm(adv-images[i]))\n",
    "    count.append(queries)\n",
    "    threshold_query.append(threshold_query)\n",
    "    \n",
    "    "
   ]
  },
  {
   "cell_type": "code",
   "execution_count": null,
   "metadata": {
    "collapsed": true
   },
   "outputs": [],
   "source": [
    "index = np.nonzero(count)\n",
    "index = list(index)[0].tolist()\n",
    "\n",
    "\n",
    "avg_distortion = np.mean(np.array(dist)[index])\n",
    "avg_count = np.mean(np.array(count)[index])\n",
    "avg_thre_query = np.mean(np.array(threshold_query))\n",
    "\n",
    "print(\"the average distortion for %2d images :\"%(len(index)),avg_distortion)\n",
    "print(\"the distortions for 15 images :\")\n",
    "for i in dist:\n",
    "    print(i)\n",
    "    \n",
    "print(\"the number of queries for %2d images :\"%(len(index)), avg_count)    \n",
    "print(\"the number of queries for 15 images :\")\n",
    "for j in count:\n",
    "    print(j)\n",
    "    \n",
    "print(\"the number of queries for %2d images after threshold:\"%(len(index)), avg_thre_query)    \n",
    "print(\"the number of queries for 15 images :\")\n",
    "for j in threshold_query:\n",
    "    print(j)\n",
    "\n"
   ]
  },
  {
   "cell_type": "code",
   "execution_count": 5,
   "metadata": {
    "collapsed": true
   },
   "outputs": [],
   "source": [
    "# load images and lables\n",
    "images,labels = read_images(\"/data3/ILSVRC2012/train/\",\"/data3/ILSVRC2012/train.txt\",10)"
   ]
  },
  {
   "cell_type": "code",
   "execution_count": 6,
   "metadata": {},
   "outputs": [
    {
     "name": "stdout",
     "output_type": "stream",
     "text": [
      "INFO:tensorflow:Scale of 0 disables regularizer.\n",
      "INFO:tensorflow:Restoring parameters from /home/yusu/obfuscated-gradients/baseline_incepv3/data/inception_v3.ckpt\n"
     ]
    }
   ],
   "source": [
    "model = MyModel(inceptionv3,sess,[0.0,1.0])\n",
    "attack = blackbox(model)"
   ]
  },
  {
   "cell_type": "code",
   "execution_count": 7,
   "metadata": {},
   "outputs": [
    {
     "name": "stdout",
     "output_type": "stream",
     "text": [
      "[449] [449]\n"
     ]
    }
   ],
   "source": [
    "print(model.predict(images[0]),labels[0])"
   ]
  },
  {
   "cell_type": "code",
   "execution_count": 8,
   "metadata": {},
   "outputs": [
    {
     "name": "stdout",
     "output_type": "stream",
     "text": [
      "accuracy of this model: 0.8\n"
     ]
    }
   ],
   "source": [
    "compare = []\n",
    "for i in range(len(images)):\n",
    "    pred = model.predict(images[i])\n",
    "    if pred == labels[i]:\n",
    "        \n",
    "        compare.append(1)\n",
    "    else:\n",
    "        compare.append(0)\n",
    "print(\"accuracy of this model:\", sum(compare)/len(compare))"
   ]
  },
  {
   "cell_type": "code",
   "execution_count": null,
   "metadata": {},
   "outputs": [
    {
     "name": "stdout",
     "output_type": "stream",
     "text": [
      "================attacking image  1 =======================\n",
      "predicted label: [449]\n",
      "true label: [449]\n",
      "--------> Found distortion 160.7198\n",
      "--------> Found distortion 158.8613\n",
      "--------> Found distortion 125.9310\n",
      "--------> Found distortion 107.3789\n",
      "--------> Found distortion 101.1397\n",
      "the best initialization:  tensor(101.1397)\n",
      "Iteration  50: g(theta + beta*u) = 15.0799 g(theta) = 15.0897 distortion 15.0897 num_queries 9753\n",
      "Iteration 100: g(theta + beta*u) = 8.1369 g(theta) = 8.1328 distortion 8.1328 num_queries 19974\n",
      "Iteration 150: g(theta + beta*u) = 5.8249 g(theta) = 5.8260 distortion 5.8260 num_queries 29440\n",
      "Iteration 200: g(theta + beta*u) = 4.8337 g(theta) = 4.8353 distortion 4.8353 num_queries 39316\n",
      "Iteration 250: g(theta + beta*u) = 3.9063 g(theta) = 3.9060 distortion 3.9060 num_queries 48299\n",
      "Iteration 300: g(theta + beta*u) = 3.4698 g(theta) = 3.4700 distortion 3.4700 num_queries 56512\n",
      "Iteration 350: g(theta + beta*u) = 3.1911 g(theta) = 3.1908 distortion 3.1908 num_queries 64798\n",
      "Iteration 400: g(theta + beta*u) = 2.9893 g(theta) = 2.9890 distortion 2.9890 num_queries 73260\n",
      "Iteration 450: g(theta + beta*u) = 2.7558 g(theta) = 2.7561 distortion 2.7561 num_queries 81704\n",
      "Iteration 500: g(theta + beta*u) = 2.5357 g(theta) = 2.5357 distortion 2.5357 num_queries 89950\n",
      "Iteration 550: g(theta + beta*u) = 2.3543 g(theta) = 2.3538 distortion 2.3538 num_queries 97992\n",
      "Iteration 600: g(theta + beta*u) = 2.1882 g(theta) = 2.1882 distortion 2.1882 num_queries 105964\n",
      "Iteration 650: g(theta + beta*u) = 2.0581 g(theta) = 2.0581 distortion 2.0581 num_queries 113857\n",
      "Iteration 700: g(theta + beta*u) = 1.9587 g(theta) = 1.9585 distortion 1.9585 num_queries 121389\n",
      "Iteration 750: g(theta + beta*u) = 1.8956 g(theta) = 1.8957 distortion 1.8957 num_queries 128818\n",
      "Iteration 800: g(theta + beta*u) = 1.8382 g(theta) = 1.8381 distortion 1.8381 num_queries 136225\n",
      "Iteration 850: g(theta + beta*u) = 1.8019 g(theta) = 1.8020 distortion 1.8020 num_queries 143762\n",
      "Iteration 900: g(theta + beta*u) = 1.7597 g(theta) = 1.7599 distortion 1.7599 num_queries 151346\n",
      "Iteration 950: g(theta + beta*u) = 1.7142 g(theta) = 1.7142 distortion 1.7142 num_queries 158876\n",
      "Iteration 1000: g(theta + beta*u) = 1.6684 g(theta) = 1.6684 distortion 1.6684 num_queries 166402\n",
      "inceptionv3\n",
      "best distortion : tensor(1.6681)\n",
      "number of queries : 166746\n",
      "================attacking image  2 =======================\n",
      "predicted label: [577]\n",
      "true label: [494]\n",
      "Fail to classify the image. No need to attack.\n",
      "================attacking image  3 =======================\n",
      "predicted label: [397]\n",
      "true label: [397]\n",
      "--------> Found distortion 87.1169\n",
      "--------> Found distortion 68.5574\n",
      "--------> Found distortion 66.3266\n",
      "--------> Found distortion 58.3913\n",
      "--------> Found distortion 53.8328\n",
      "the best initialization:  tensor(53.8328)\n",
      "Iteration  50: g(theta + beta*u) = 17.5934 g(theta) = 17.5964 distortion 17.5964 num_queries 9375\n",
      "Iteration 100: g(theta + beta*u) = 11.3945 g(theta) = 11.3956 distortion 11.3956 num_queries 19601\n",
      "Iteration 150: g(theta + beta*u) = 8.8809 g(theta) = 8.8819 distortion 8.8819 num_queries 29302\n",
      "Iteration 200: g(theta + beta*u) = 7.4761 g(theta) = 7.4787 distortion 7.4787 num_queries 39019\n",
      "Iteration 250: g(theta + beta*u) = 6.2536 g(theta) = 6.2528 distortion 6.2528 num_queries 47953\n",
      "Iteration 300: g(theta + beta*u) = 5.5171 g(theta) = 5.5187 distortion 5.5187 num_queries 56898\n",
      "Iteration 350: g(theta + beta*u) = 5.0307 g(theta) = 5.0310 distortion 5.0310 num_queries 66004\n",
      "Iteration 400: g(theta + beta*u) = 4.5858 g(theta) = 4.5848 distortion 4.5848 num_queries 75028\n",
      "Iteration 450: g(theta + beta*u) = 4.0935 g(theta) = 4.0930 distortion 4.0930 num_queries 83844\n",
      "Iteration 500: g(theta + beta*u) = 3.7498 g(theta) = 3.7498 distortion 3.7498 num_queries 92064\n",
      "Iteration 550: g(theta + beta*u) = 3.4708 g(theta) = 3.4710 distortion 3.4710 num_queries 100124\n",
      "Iteration 600: g(theta + beta*u) = 3.3179 g(theta) = 3.3181 distortion 3.3181 num_queries 108330\n",
      "Iteration 650: g(theta + beta*u) = 3.2074 g(theta) = 3.2074 distortion 3.2074 num_queries 116518\n",
      "Iteration 700: g(theta + beta*u) = 3.0928 g(theta) = 3.0925 distortion 3.0925 num_queries 124816\n",
      "Iteration 750: g(theta + beta*u) = 2.9781 g(theta) = 2.9776 distortion 2.9776 num_queries 133042\n",
      "Iteration 800: g(theta + beta*u) = 2.8578 g(theta) = 2.8576 distortion 2.8576 num_queries 141274\n",
      "Iteration 850: g(theta + beta*u) = 2.7477 g(theta) = 2.7479 distortion 2.7479 num_queries 149446\n",
      "Iteration 900: g(theta + beta*u) = 2.6355 g(theta) = 2.6354 distortion 2.6354 num_queries 157568\n",
      "Iteration 950: g(theta + beta*u) = 2.5330 g(theta) = 2.5332 distortion 2.5332 num_queries 165654\n",
      "Iteration 1000: g(theta + beta*u) = 2.4264 g(theta) = 2.4262 distortion 2.4262 num_queries 173618\n",
      "inceptionv3\n",
      "best distortion : tensor(2.4249)\n",
      "number of queries : 173956\n",
      "================attacking image  4 =======================\n",
      "predicted label: [443]\n",
      "true label: [443]\n",
      "--------> Found distortion 260.9665\n",
      "--------> Found distortion 118.9749\n",
      "--------> Found distortion 110.3628\n",
      "--------> Found distortion 108.7981\n",
      "--------> Found distortion 106.6269\n",
      "--------> Found distortion 104.7121\n",
      "--------> Found distortion 94.3508\n",
      "--------> Found distortion 93.6818\n",
      "the best initialization:  tensor(93.6818)\n",
      "Iteration  50: g(theta + beta*u) = 40.0117 g(theta) = 40.0173 distortion 40.0173 num_queries 9776\n",
      "Iteration 100: g(theta + beta*u) = 29.3428 g(theta) = 29.3386 distortion 29.3386 num_queries 19189\n",
      "Iteration 150: g(theta + beta*u) = 22.5236 g(theta) = 22.5239 distortion 22.5239 num_queries 28298\n",
      "Iteration 200: g(theta + beta*u) = 18.8104 g(theta) = 18.8018 distortion 18.8018 num_queries 37450\n",
      "Iteration 250: g(theta + beta*u) = 15.4428 g(theta) = 15.4462 distortion 15.4462 num_queries 47411\n",
      "Iteration 300: g(theta + beta*u) = 13.0658 g(theta) = 13.0654 distortion 13.0654 num_queries 56922\n"
     ]
    }
   ],
   "source": [
    "dist = []\n",
    "count = []\n",
    "for i in range(5):\n",
    "    print(\"================attacking image \",i+1,\"=======================\")\n",
    "\n",
    "    adv,queries = attack.attack_untargeted(images[i],labels[i],alpha = 2, beta = 0.005, iterations = 1000)\n",
    "    dist.append(np.linalg.norm(adv-images[i]))\n",
    "    count.append(queries)\n",
    "    \n",
    "print(\"the distortions for 5 images :\")\n",
    "for i in dist:\n",
    "    print(i)\n",
    "print(\"the number of queries for 5 images :\")\n",
    "for j in count:\n",
    "    print(j)"
   ]
  },
  {
   "cell_type": "code",
   "execution_count": 5,
   "metadata": {
    "scrolled": true
   },
   "outputs": [
    {
     "name": "stdout",
     "output_type": "stream",
     "text": [
      "type of images: <class 'tensorflow.python.framework.ops.Tensor'>\n",
      "type of labels:  <class 'tensorflow.python.framework.ops.Tensor'>\n",
      "shape of images (100000, 299, 299, 3)\n",
      "shape of image: (299, 299, 3)\n",
      "shape of labels : ()\n",
      "dims of images: 100000\n"
     ]
    }
   ],
   "source": [
    "print(\"type of images:\",type(images))\n",
    "print(\"type of labels: \",type(labels))\n",
    "print(\"shape of images\", images.get_shape())\n",
    "print(\"shape of image:\", images[0].get_shape())\n",
    "print(\"shape of labels :\",labels.get_shape())\n",
    "print(\"dims of images:\",images.get_shape()[0])"
   ]
  },
  {
   "cell_type": "code",
   "execution_count": null,
   "metadata": {
    "collapsed": true
   },
   "outputs": [],
   "source": [
    "#sess = tf.InteractiveSession()\n",
    "#images = images.eval()\n",
    "#print(\"type of images\",type(images))"
   ]
  },
  {
   "cell_type": "code",
   "execution_count": 2,
   "metadata": {
    "collapsed": true
   },
   "outputs": [],
   "source": [
    "all_labels = pd.read_csv(\"/data3/ILSVRC2012/train.txt\",sep=\" \",header = None)"
   ]
  },
  {
   "cell_type": "code",
   "execution_count": 3,
   "metadata": {},
   "outputs": [
    {
     "name": "stdout",
     "output_type": "stream",
     "text": [
      "                                0  1\n",
      "0  n01440764/n01440764_10026.JPEG  0\n",
      "1  n01440764/n01440764_10027.JPEG  0\n",
      "2  n01440764/n01440764_10029.JPEG  0\n",
      "3  n01440764/n01440764_10040.JPEG  0\n",
      "4  n01440764/n01440764_10042.JPEG  0\n",
      "5  n01440764/n01440764_10043.JPEG  0\n",
      "6  n01440764/n01440764_10048.JPEG  0\n",
      "7  n01440764/n01440764_10066.JPEG  0\n",
      "8  n01440764/n01440764_10074.JPEG  0\n",
      "9   n01440764/n01440764_1009.JPEG  0\n"
     ]
    }
   ],
   "source": [
    "print(all_labels[:10])"
   ]
  },
  {
   "cell_type": "code",
   "execution_count": 11,
   "metadata": {
    "collapsed": true
   },
   "outputs": [],
   "source": [
    "all_labels.columns = ['path','label']"
   ]
  },
  {
   "cell_type": "code",
   "execution_count": 18,
   "metadata": {},
   "outputs": [
    {
     "name": "stdout",
     "output_type": "stream",
     "text": [
      "bingo!\n"
     ]
    }
   ],
   "source": [
    "new_label = all_labels.label[all_labels.path == 'n04392985/n04392985_10499.JPEG']\n",
    "new_label = np.asarray(new_label)\n",
    "if new_label == 848:\n",
    "    print(\"bingo!\")"
   ]
  },
  {
   "cell_type": "code",
   "execution_count": 16,
   "metadata": {
    "collapsed": true
   },
   "outputs": [],
   "source": [
    "labels = all_labels[labels.columns[1]][:100000]"
   ]
  },
  {
   "cell_type": "code",
   "execution_count": 17,
   "metadata": {
    "collapsed": true
   },
   "outputs": [],
   "source": [
    "index = random.sample(range(0,len(labels)),100)"
   ]
  },
  {
   "cell_type": "code",
   "execution_count": 18,
   "metadata": {},
   "outputs": [
    {
     "data": {
      "text/plain": [
       "TensorShape([Dimension(100000), Dimension(299), Dimension(299), Dimension(3)])"
      ]
     },
     "execution_count": 18,
     "metadata": {},
     "output_type": "execute_result"
    }
   ],
   "source": [
    "all_images.get_shape()"
   ]
  },
  {
   "cell_type": "code",
   "execution_count": 19,
   "metadata": {
    "collapsed": true
   },
   "outputs": [],
   "source": [
    "images = [all_images[i] for i in index]"
   ]
  },
  {
   "cell_type": "code",
   "execution_count": 20,
   "metadata": {
    "collapsed": true
   },
   "outputs": [],
   "source": [
    "labels = np.asarray(labels[index])"
   ]
  },
  {
   "cell_type": "code",
   "execution_count": 21,
   "metadata": {},
   "outputs": [
    {
     "name": "stdout",
     "output_type": "stream",
     "text": [
      "100\n",
      "(299, 299, 3)\n",
      "50\n"
     ]
    }
   ],
   "source": [
    "print(len(images))\n",
    "print(images[0].get_shape())\n",
    "#print(type(labels))\n",
    "#print(\"shape of labels\",labels.shape)\n",
    "print(labels[1])"
   ]
  },
  {
   "cell_type": "code",
   "execution_count": null,
   "metadata": {
    "collapsed": true
   },
   "outputs": [],
   "source": [
    "sess = tf.InteractiveSession()\n",
    "images = [i.eval() for i in images]\n",
    "images = images.eval()\n",
    "print(\"type of images\",type(images))"
   ]
  },
  {
   "cell_type": "code",
   "execution_count": null,
   "metadata": {
    "collapsed": true
   },
   "outputs": [],
   "source": []
  }
 ],
 "metadata": {
  "kernelspec": {
   "display_name": "Python 3",
   "language": "python",
   "name": "python3"
  },
  "language_info": {
   "codemirror_mode": {
    "name": "ipython",
    "version": 3
   },
   "file_extension": ".py",
   "mimetype": "text/x-python",
   "name": "python",
   "nbconvert_exporter": "python",
   "pygments_lexer": "ipython3",
   "version": "3.6.3"
  }
 },
 "nbformat": 4,
 "nbformat_minor": 2
}
